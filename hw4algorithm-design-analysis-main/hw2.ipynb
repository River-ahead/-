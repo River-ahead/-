{
 "cells": [
  {
   "cell_type": "markdown",
   "metadata": {},
   "source": [
    "## algorithm design and anlysis-2025 spring  homework 2\n",
    "**Deadline**：2025.5.14\n",
    "\n",
    "**name**:\n",
    "\n",
    "\n",
    "note：\n",
    "---\n",
    "1. 带有\\*的题目，申请免上课的同学，必须完成，其他同学选作；\n",
    "2. 请独立完成，如求助了他人或者大模型，请著明，并且不可省略算法分析部分；\n",
    "4. 如若作答有雷同，全部取消成绩；\n",
    "3. 需要书面作答的题目，可以通过引用图片的形式添加，但是注意上传项目时包含所引用的图片的源文件；\n",
    "4. $log_n$ 默认表示$log_2{n}$;"
   ]
  },
  {
   "cell_type": "markdown",
   "metadata": {},
   "source": [
    "## 问题 1  \n",
    "\n",
    "> 给定一个已排序的链表的头 `head` ， *删除所有重复的元素，使每个元素只出现一次* 。返回 *已排序的链表* 。链表的类如下所示：\n",
    "\n",
    "```python\n",
    "class NodeList:\n",
    "    def __init__(self, val=None, right=None):\n",
    "        self.val   = val\n",
    "        self.right = right\n",
    "```\n",
    "\n",
    "输入是一个数组，你首先需要将数组转化为链表，然后删除链表中的重复元素，再遍历链表元素，以一个数组的形式返回。请设计一个算法解决上述任务，分析算法设计思路，计算时间复杂度, 并基于python编程实现。\n",
    "\n",
    "e.g.  输入：head=[1, 1, 2, 3, 3]   输出：[1, 2, 3]\n",
    "\n",
    "![image-20240502110020439](./fig/hw2q1.png)\n",
    "\n"
   ]
  },
  {
   "cell_type": "markdown",
   "metadata": {},
   "source": "idea：我们先把输入的已排序数组按顺序节点化成一个单向链表，再沿着链表从头往后一次遍历：如果当前节点的值与它下一个节点的值相同，就将 cur.right 指向下下个节点以跳过重复，否则就向后移动到下一个节点，直到链尾。这样，一趟扫描即可原地去重；最后再把遍历过的链表节点值收集到一个 Python 列表中返回"
  },
  {
   "cell_type": "code",
   "metadata": {
    "ExecuteTime": {
     "end_time": "2025-05-11T13:02:36.853973Z",
     "start_time": "2025-05-11T13:02:36.838180Z"
    }
   },
   "source": [
    "# add your idea here\n",
    "class NodeList:\n",
    "    def __init__(self, val=None, right=None):\n",
    "        self.val = val\n",
    "        self.right = right\n",
    "\n",
    "def array_to_list(arr):\n",
    "    \"\"\"把数组转成单向链表，返回 head 节点。\"\"\"\n",
    "    if not arr:\n",
    "        return None\n",
    "    head = NodeList(arr[0])\n",
    "    cur = head\n",
    "    for v in arr[1:]:\n",
    "        cur.right = NodeList(v)\n",
    "        cur = cur.right\n",
    "    return head\n",
    "\n",
    "def remove_duplicates(head):\n",
    "    \"\"\"在已排序链表 head 上就地删除重复节点。\"\"\"\n",
    "    cur = head\n",
    "    while cur and cur.right:\n",
    "        if cur.val == cur.right.val:\n",
    "            # 跳过重复节点\n",
    "            cur.right = cur.right.right\n",
    "        else:\n",
    "            cur = cur.right\n",
    "    return head\n",
    "\n",
    "def list_to_array(head):\n",
    "    \"\"\"把链表遍历输出成 Python 列表。\"\"\"\n",
    "    res = []\n",
    "    cur = head\n",
    "    while cur:\n",
    "        res.append(cur.val)\n",
    "        cur = cur.right\n",
    "    return res\n",
    "\n",
    "def unique_sorted(head_arr):\n",
    "\n",
    "    head = array_to_list(head_arr)\n",
    "    head = remove_duplicates(head)\n",
    "    return list_to_array(head)\n",
    "\n",
    "\n",
    "print(unique_sorted([1, 1, 2, 3, 3]))       # [1, 2, 3]\n",
    "\n",
    "\n",
    "# your algorithm time complexity is:O(n)"
   ],
   "outputs": [
    {
     "name": "stdout",
     "output_type": "stream",
     "text": [
      "[1, 2, 3]\n"
     ]
    }
   ],
   "execution_count": 2
  },
  {
   "cell_type": "markdown",
   "metadata": {},
   "source": [
    "## 问题 2  \n",
    "\n",
    "> 下面是一个经典的算法问题：\n",
    ">\n",
    "> - 给定包含n个整数的一个整数数组 `nums` 和一个整数目标值 `target`，请你在该数组中找出 **和为目标值** *`target`* 的那 **两个** 整数，并返回它们的**数组下标**。假设每种输入只会对应一个答案。但是，数组中同一个元素在答案里不能重复出现。你可以按任意顺序返回答案。\n",
    ">\n",
    "> 由于要多次查找数组中元素的位置，为了提高查询效率可以使用哈希表来存储数组中的数据，在哈希表中查询一个元素的复杂度为O(1)。 已知python中的字典是使用哈希表实现的，即使用`dict[key]`查询对应的value时间复杂度为O(1), python提供了查询字典是否包含某个key的功能：`key in dict`，时间复杂度也是O(1)\n",
    "\n",
    "请根据上面信息，设计一个时间复杂度为O(n) 的算法，解决上述算法问题\n",
    "\n",
    "e.g.   \n",
    "\n",
    "输入：nums=[2,7,11,15], target=9， 输出：[0，1]\n",
    "\n",
    "输入：nums=[3,2,4], target=6, 输出：[1,2]\n",
    "\n",
    "输入：nums=[3,3], target=6,  输出：[0,1]\n"
   ]
  },
  {
   "cell_type": "code",
   "metadata": {
    "ExecuteTime": {
     "end_time": "2025-05-11T13:04:08.468932Z",
     "start_time": "2025-05-11T13:04:08.453037Z"
    }
   },
   "source": [
    "# add your idea here\n",
    "def two_sum(nums, target):\n",
    "\n",
    "    seen = {} \n",
    "    for i, x in enumerate(nums):\n",
    "        y = target - x\n",
    "        if y in seen:\n",
    "            return [seen[y], i]\n",
    "        seen[x] = i\n",
    "\n",
    "# 测试\n",
    "print(two_sum([2,7,11,15], 9))   \n",
    "print(two_sum([3,2,4], 6))     \n",
    "print(two_sum([3,3], 6))        \n",
    "\n",
    "# your algorithm time complexity is: O(n)"
   ],
   "outputs": [
    {
     "name": "stdout",
     "output_type": "stream",
     "text": [
      "[0, 1]\n",
      "[1, 2]\n",
      "[0, 1]\n"
     ]
    }
   ],
   "execution_count": 3
  },
  {
   "cell_type": "markdown",
   "metadata": {},
   "source": [
    "## 问题 3:   \n",
    "\n",
    "> 栈是一种常用的数据结构，编译器中通常使用栈来实现表达式求值。\n",
    ">\n",
    "> 以表达式 $3+5 \\times 8-6$​ 为例。编译器使用两个栈来完成运算，即一个栈保持操作数，另一个栈保存运算符。\n",
    ">\n",
    "> 1. 从左向右遍历表达式，遇到数字就压入操作数栈；\n",
    ">\n",
    "> 2. 遇到运算符，就与运算符栈的栈顶元素进行比较。如果比运算符栈顶元素的优先级高，就将当前运算符压入栈；如果比运算符栈顶元素的优先级低或者相同，从运算符栈中取栈顶运算符，从操作数栈的栈顶取 2 个操作数，然后进行计算，再把计算完的结果压入操作数栈，继续比较。\n",
    ">\n",
    "> 下图是 $3+5 \\times 8-6$  这个表达式的计算过程：\n",
    "\n",
    "![figure](./fig/hw2q3.png)\n",
    "\n",
    "根据上述原理，请设计一个算法完成表达式的运算，当输入为表达式字符串，返回对应的计算结果。分析算法设计思路，计算时间复杂度，并基于python编程实现\n",
    "\n",
    "**note：**\n",
    "\n",
    "1. 假设输入的表达式只会出现加（“+”），减 “-”， 乘“*”，除 “/” 四个运算符, 表达式中只会出现正整数\n",
    "2. python中` str.isdigit()`函数可以判断字符串str是否为数字，\n",
    "\n",
    "\n",
    "\n",
    "e.g. :\n",
    "---\n",
    "\n",
    "1. 输入：“$3+5 * 8 -6$”   输出：37\n",
    "\n",
    "2. 输入：“$34+13*9 + 44-12/3$”  输出：191"
   ]
  },
  {
   "cell_type": "markdown",
   "metadata": {},
   "source": [
    "idea：维护两座栈\n",
    "\n",
    "数栈 nums：存放操作数（整型）。\n",
    "\n",
    "符号栈 ops：存放运算符（'+', '-', '*', '/'）。\n",
    "\n",
    "定义运算符优先级\n",
    "\n",
    "prec = {'+': 1, '-': 1, '*': 2, '/': 2}\n",
    "扫描整个表达式\n",
    "\n",
    "遇到空格跳过。\n",
    "\n",
    "遇到数字字符，就读整一个多位数，转为 int 后压入 nums。\n",
    "\n",
    "遇到运算符 op：\n",
    "\n",
    "当 ops 不空且栈顶运算符 ops[-1] 的优先级 ≥ prec[op] 时，先把栈顶运算符弹出并从 nums 栈中弹出两个操作数做运算，结果再压回 nums；然后重复检查。\n",
    "\n",
    "最后再把当前 op 压入 ops。\n",
    "\n",
    "结束后清空余留运算符\n",
    "扫描完毕后，若 ops 中还有运算符，就 依次弹出并运算，直到 ops 为空。\n",
    "\n",
    "结果\n",
    "此时 nums 栧顶就是最终计算结果。"
   ]
  },
  {
   "cell_type": "code",
   "metadata": {
    "ExecuteTime": {
     "end_time": "2025-05-11T13:09:29.971694Z",
     "start_time": "2025-05-11T13:09:29.955915Z"
    }
   },
   "source": [
    "# add your idea here\n",
    "def evaluate(expr: str) -> int:\n",
    "\n",
    "    nums = []  \n",
    "    ops = []    \n",
    "    # 运算符优先级\n",
    "    prec = {'+': 1, '-': 1, '*': 2, '/': 2}\n",
    "\n",
    "    def apply_op():\n",
    "        op = ops.pop()\n",
    "        b = nums.pop()\n",
    "        a = nums.pop()\n",
    "        if op == '+':\n",
    "            nums.append(a + b)\n",
    "        elif op == '-':\n",
    "            nums.append(a - b)\n",
    "        elif op == '*':\n",
    "            nums.append(a * b)\n",
    "        else:  \n",
    "            nums.append(a // b)\n",
    "\n",
    "    i, n = 0, len(expr)\n",
    "    while i < n:\n",
    "        c = expr[i]\n",
    "        if c.isspace():\n",
    "            i += 1\n",
    "            continue\n",
    "        if c.isdigit():\n",
    "            val = 0\n",
    "            while i < n and expr[i].isdigit():\n",
    "                val = val * 10 + int(expr[i])\n",
    "                i += 1\n",
    "            nums.append(val)\n",
    "            continue\n",
    "        while ops and prec[ops[-1]] >= prec[c]:\n",
    "            apply_op()\n",
    "        ops.append(c)\n",
    "        i += 1\n",
    "\n",
    "    while ops:\n",
    "        apply_op()\n",
    "\n",
    "    return nums[0]\n",
    "\n",
    "\n",
    "print(evaluate(\"3+5*8-6\"))         \n",
    "print(evaluate(\"34+13*9+44-12/3\")) \n",
    "\n",
    "# your algorithm time complexity is: "
   ],
   "outputs": [
    {
     "name": "stdout",
     "output_type": "stream",
     "text": [
      "37\n",
      "191\n"
     ]
    }
   ],
   "execution_count": 5
  },
  {
   "cell_type": "markdown",
   "metadata": {},
   "source": [
    "## 问题 4:  \n",
    "\n",
    "> 星球碰撞问题：现有n个星球，在同一条直线上运行，如数组A所示，元素的绝对值表示星球的质量，负数表示星球自右向左运动，正数表示星球自左向右运动，当两个星球相撞的时候，质量小的会消失，大的保持不变，**质量相同的两个星球碰撞后自右向左运动的星球消失，自左向右的星球保持不变**，假设所有星球的速度大小相同。\n",
    ">\n",
    "> $ A=[23,-8, 9, -3, -7, 9, -23, 22] $\n",
    "\n",
    "请设计一个算法模拟星球的运行情况，输出最终的星球存续情况（输出一个数组），分析算法设计思路，计算时间复杂度，并基于python编程实现。\n",
    "\n",
    "e.g.\n",
    "---\n",
    "1.  输入： A=[-3,-6,2,8, 5,-8,9,-2,1]， 输出：[-3, -6, 2, 8, 9, 1]\n",
    "\n",
    "2. 输入：A=[23,-8, 9, -3, -7, 9, -23, 22], 输出：[23, 22]\n",
    "\n"
   ]
  },
  {
   "metadata": {
    "ExecuteTime": {
     "end_time": "2025-05-11T13:11:09.690933Z",
     "start_time": "2025-05-11T13:11:09.679275Z"
    }
   },
   "cell_type": "code",
   "source": [
    "def survive_planets(A):\n",
    "    stk = []\n",
    "    for x in A:\n",
    "        if x > 0:\n",
    "            stk.append(x)\n",
    "            continue\n",
    "        while stk and stk[-1] > 0 and abs(stk[-1]) < abs(x):\n",
    "            stk.pop()  \n",
    "        if stk and stk[-1] > 0:\n",
    "            continue\n",
    "        stk.append(x)\n",
    "    return stk\n",
    "\n",
    "print(survive_planets([-3, -6, 2, 8, 5, -8, 9, -2, 1]))\n",
    "print(survive_planets([23, -8, 9, -3, -7, 9, -23, 22]))"
   ],
   "outputs": [
    {
     "name": "stdout",
     "output_type": "stream",
     "text": [
      "[-3, -6, 2, 8, 9, 1]\n",
      "[23, 22]\n"
     ]
    }
   ],
   "execution_count": 6
  },
  {
   "cell_type": "markdown",
   "metadata": {},
   "source": [
    "## 问题 5 \n",
    "\n",
    "> 给定一个无序数组nums=[9,-3,-10,0,9,7,33]，请建立一个二叉搜索树存储数组中的所有元素，之后删除二叉树中的元素“0”，再使用中序遍历输出二叉搜索树中的所有元素。\n",
    "\n",
    "使用python编程完成上述任务，并计算时间复杂度\n"
   ]
  },
  {
   "cell_type": "code",
   "metadata": {
    "ExecuteTime": {
     "end_time": "2025-05-11T13:13:13.538260Z",
     "start_time": "2025-05-11T13:13:13.512556Z"
    }
   },
   "source": [
    "# add your idea here\n",
    "from typing import Optional, List\n",
    "\n",
    "class TreeNode:\n",
    "    def __init__(self, val: int):\n",
    "        self.val = val\n",
    "        self.left: Optional['TreeNode'] = None\n",
    "        self.right: Optional['TreeNode'] = None\n",
    "\n",
    "def bst_insert(root: Optional[TreeNode], val: int) -> TreeNode:\n",
    "    if root is None:\n",
    "        return TreeNode(val)\n",
    "    if val < root.val:\n",
    "        root.left = bst_insert(root.left, val)\n",
    "    else:\n",
    "        root.right = bst_insert(root.right, val)\n",
    "    return root\n",
    "\n",
    "def bst_delete(root: Optional[TreeNode], key: int) -> Optional[TreeNode]:\n",
    "    if root is None:\n",
    "        return None\n",
    "    if key < root.val:\n",
    "        root.left = bst_delete(root.left, key)\n",
    "    elif key > root.val:\n",
    "        root.right = bst_delete(root.right, key)\n",
    "    else:\n",
    "\n",
    "        if not root.left:\n",
    "            return root.right\n",
    "        if not root.right:\n",
    "            return root.left\n",
    "\n",
    "        succ = root.right\n",
    "        while succ.left:\n",
    "            succ = succ.left\n",
    "        root.val = succ.val\n",
    "        root.right = bst_delete(root.right, succ.val)\n",
    "    return root\n",
    "\n",
    "def inorder_traversal(root: Optional[TreeNode], out: List[int]) -> None:\n",
    "    if not root:\n",
    "        return\n",
    "    inorder_traversal(root.left, out)\n",
    "    out.append(root.val)\n",
    "    inorder_traversal(root.right, out)\n",
    "\n",
    "def simulate_bst_operations(nums: List[int]) -> List[int]:\n",
    "\n",
    "    root: Optional[TreeNode] = None\n",
    "    for x in nums:\n",
    "        root = bst_insert(root, x)\n",
    "    root = bst_delete(root, 0)\n",
    "    result: List[int] = []\n",
    "    inorder_traversal(root, result)\n",
    "    return result\n",
    "\n",
    "\n",
    "print(simulate_bst_operations([9, -3, -10, 0, 9, 7, 33]))\n",
    "print(simulate_bst_operations([23, -8, 9, -3, -7, 9, -23, 22]))\n",
    "\n",
    "# your algorithm time complexity is:O(nlogn)"
   ],
   "outputs": [
    {
     "name": "stdout",
     "output_type": "stream",
     "text": [
      "[-10, -3, 7, 9, 9, 33]\n",
      "[-23, -8, -7, -3, 9, 9, 22, 23]\n"
     ]
    }
   ],
   "execution_count": 7
  },
  {
   "cell_type": "markdown",
   "metadata": {},
   "source": [
    "## 问题 6  \n",
    "\n",
    "> 给定一个包含大写字母和小写字母的字符串 s ，返回 字符串包含的 **最长的回文子串的长度** 。请注意 区分大小写 。比如 \"Aa\" 不能当做一个回文字符串。\n",
    ">\n",
    "\n",
    "请设计一个算法解决上述问题，只需要输出最长回文子串的长度，分析算法设计思路，计算时间复杂度，并基于python编程实现\n",
    "\n",
    "e.g. 输入： s=\"adccaccd\"，  输出：7。 最长回文子串为：\"dccaccd\", 长度为7\n"
   ]
  },
  {
   "cell_type": "markdown",
   "metadata": {},
   "source": [
    "idea：任意回文子串要么是奇数长度（以某个字符为中心），要么是偶数长度（以两个相邻字符间隙为中心），因此遍历每个下标 \n",
    "i 时分别以 \n",
    "(i,i) 和 \n",
    "(i,i+1) 做左右指针，不断向外扩展直到两侧字符不相等即可得到该中心的最大回文长度。"
   ]
  },
  {
   "cell_type": "code",
   "metadata": {
    "ExecuteTime": {
     "end_time": "2025-05-11T13:15:02.692118Z",
     "start_time": "2025-05-11T13:15:02.675308Z"
    }
   },
   "source": [
    "# add your idea here\n",
    "def longest_palindrome_length(s: str) -> int:\n",
    "\n",
    "    n = len(s)\n",
    "    if n < 2:\n",
    "        return n\n",
    "\n",
    "    def expand(l: int, r: int) -> int:\n",
    "        while l >= 0 and r < n and s[l] == s[r]:\n",
    "            l -= 1\n",
    "            r += 1\n",
    "        return r - l - 1\n",
    "\n",
    "    max_len = 1\n",
    "    for i in range(n):\n",
    "        len1 = expand(i, i)\n",
    "        len2 = expand(i, i+1)\n",
    "        max_len = max(max_len, len1, len2)\n",
    "\n",
    "    return max_len\n",
    "\n",
    "print(longest_palindrome_length(\"adccacccd\")) \n",
    "print(longest_palindrome_length(\"Aa\"))       \n",
    "print(longest_palindrome_length(\"babad\"))      \n",
    "print(longest_palindrome_length(\"cbbd\"))    \n",
    "\n",
    "# your algorithm time complexity is:O(n²)\n"
   ],
   "outputs": [
    {
     "name": "stdout",
     "output_type": "stream",
     "text": [
      "5\n",
      "1\n",
      "3\n",
      "2\n"
     ]
    }
   ],
   "execution_count": 8
  },
  {
   "cell_type": "markdown",
   "metadata": {},
   "source": [
    "## 问题 7 \n",
    "\n",
    "> 沿一条长河流分散着n座房子。你可以把这条河想象成一条轴，房子是由它们在这条轴上的坐标按顺序排列的。你的公司想在河边的特定地点设置手机基站，这样每户人家都在距离基站4公里的范围内。输入可以看作为一个升序数组，数组元素的取值为大于等于0的正整数，你需要输出最小基站的数目，基站的位置。\n",
    "\n",
    "1. 给出一个时间复杂度为$O(n$) 的算法，使所使用的基站数量最小化，分析算法设计思路，使用python编程实现\n",
    "2. 证明1.中算法产生了最优解决方案。\n",
    "\n",
    "e.g. \n",
    "\n",
    "输入： [1, 5, 12, 33, 34,35]  输出：基站数目为3， 基站位置为[1，12，33]\n",
    "\n"
   ]
  },
  {
   "cell_type": "markdown",
   "metadata": {},
   "source": [
    "idea："
   ]
  },
  {
   "cell_type": "code",
   "metadata": {
    "ExecuteTime": {
     "end_time": "2025-05-11T13:23:01.016485Z",
     "start_time": "2025-05-11T13:23:01.000621Z"
    }
   },
   "source": [
    "# add your idea here\n",
    "from typing import List\n",
    "\n",
    "def place_stations(A: List[int]) -> (int, List[int]):\n",
    " \n",
    "    n = len(A)\n",
    "    i = 0\n",
    "    stations = []\n",
    "    while i < n:\n",
    "        # 找到能覆盖 A[i] 的最右放置点 A[j]\n",
    "        j = i\n",
    "        while j+1 < n and A[j+1] <= A[i] + 4:\n",
    "            j += 1\n",
    "        p = A[j]\n",
    "        stations.append(p)\n",
    "        # 跳过所有 ≤ p+4 的房屋\n",
    "        i = j\n",
    "        while i < n and A[i] <= p + 4:\n",
    "            i += 1\n",
    "    return len(stations), stations\n",
    "\n",
    "A = [1, 5, 12, 33, 34, 35]\n",
    "cnt, pos = place_stations(A)\n",
    "print(f\"基站数={cnt}, 位置={pos}\")\n",
    "\n",
    "\n",
    "#证明\n",
    "\n",
    "# your algorithm time complexity is:"
   ],
   "outputs": [
    {
     "name": "stdout",
     "output_type": "stream",
     "text": [
      "基站数=3, 位置=[5, 12, 35]\n"
     ]
    }
   ],
   "execution_count": 9
  },
  {
   "cell_type": "markdown",
   "metadata": {},
   "source": [
    "## 问题 8  \n",
    "\n",
    "> 给定由n个正整数组成的一个集合$S = \\{a_1, a_2，···，a_n\\}$和一个正整数W，设计一个算法确定是否存在S的一个子集 $K \\subseteq S$, 使K中所有数之和为 $W$, 如果存在返回“True”，否则返回“False”\n",
    "\n",
    "请设计一个时间复杂度为$O(nW)$动态规划算法，解决上述问题，分析算法的设计思路，并且基于python编程实现（不需要输出子集）。\n",
    "\n",
    "e.g. \n",
    "\n",
    "输入：S = {1,4,7,3,5}， W = 11，输出：True。   因为K可以是{4,7}。\n",
    "\n"
   ]
  },
  {
   "cell_type": "markdown",
   "metadata": {},
   "source": "idea：我们用一个长度为W+1的布尔一维数组dp，dp[w] 表示当前能否选出若干元素凑出恰好和w；初始化 dp[0]=True，其余为 False。然后依次拿每个元素a“选”或“不选”：从 w=W倒序到a，每次若 dp[w–a] 为 True，就令 dp[w]=True；这样倒序保证不会重复用同一个 a。遍历完所有元素后，dp[W] 为 True 则说明存在某子集和为 W，否则不存在。"
  },
  {
   "cell_type": "code",
   "metadata": {
    "ExecuteTime": {
     "end_time": "2025-05-11T13:37:19.161273Z",
     "start_time": "2025-05-11T13:37:19.155016Z"
    }
   },
   "source": [
    "# add your idea here\n",
    "from typing import List\n",
    "\n",
    "def subset_sum_exists(S: List[int], W: int) -> bool:\n",
    "\n",
    "    dp = [False] * (W+1)\n",
    "    dp[0] = True\n",
    "\n",
    "    for a in S:\n",
    "        for w in range(W, a-1, -1):\n",
    "            if dp[w - a]:\n",
    "                dp[w] = True\n",
    "        if dp[W]:\n",
    "            return True\n",
    "\n",
    "    return dp[W]\n",
    "\n",
    "\n",
    "print(subset_sum_exists([1, 4, 7, 3, 5], 11)) \n",
    "print(subset_sum_exists([2, 5, 10], 9))        \n",
    "print(subset_sum_exists([2, 3, 5], 5))         \n",
    "print(subset_sum_exists([], 0))             \n",
    "# your algorithm time complexity is: O(nW)"
   ],
   "outputs": [
    {
     "name": "stdout",
     "output_type": "stream",
     "text": [
      "True\n",
      "False\n",
      "True\n",
      "True\n"
     ]
    }
   ],
   "execution_count": 10
  },
  {
   "cell_type": "markdown",
   "metadata": {},
   "source": [
    "\n",
    "\n",
    "## 问题 9 \n",
    "\n",
    "> 给定一个n个物品的集合。物体的重量为$w_1, w_2，…、w_n$，物品的价值分别是$v_1、v_2、…v_n$。给你**两个**重量为 $c$ 的背包。如果你带了一个东西，它可以放在一个背包里，也可以放在另一个背包里，但不能同时放在两个背包里。所有权重和价值都是正整数。\n",
    "\n",
    "1. 设计一个时间复杂度为 $O(nc^2)$ 的动态规划算法，确定可以放入两个背包的物体的最大价值。分析算法设计思路，并基于python编程实现\n",
    "2. \\* 修改1中的算法，输出每个背包的内容（物品对应下标）。\n",
    "\n",
    "e.g.: \n",
    "\n",
    "输入 V=[1,3,2,5,8,7], W=[1,3,2,5,8,7], c=7, 输出：最大价值=14，背包装的物品为：[6] [4，3] （同一个背包中物品装入顺序对结果无影响）  \n"
   ]
  },
  {
   "cell_type": "markdown",
   "metadata": {},
   "source": [
    "idea："
   ]
  },
  {
   "cell_type": "code",
   "metadata": {
    "ExecuteTime": {
     "end_time": "2025-05-11T13:41:29.331348Z",
     "start_time": "2025-05-11T13:41:29.315624Z"
    }
   },
   "source": [
    "def two_knapsack(w, v, c):\n",
    "    n = len(w)\n",
    "\n",
    "    dp = [[[0]*(c+1) for _ in range(c+1)] for _ in range(n+1)]\n",
    "    for i in range(1, n+1):\n",
    "        wi, vi = w[i-1], v[i-1]\n",
    "        for u in range(c+1):\n",
    "            for vv in range(c+1):\n",
    "                best = dp[i-1][u][vv]            \n",
    "                if u >= wi:\n",
    "                    best = max(best, dp[i-1][u-wi][vv] + vi)\n",
    "                if vv >= wi:\n",
    "                    best = max(best, dp[i-1][u][vv-wi] + vi)\n",
    "                dp[i][u][vv] = best\n",
    "\n",
    "    return max(max(row) for row in dp[n])\n",
    "\n",
    "W = [1,3,2,5,8,7]\n",
    "V = [1,3,2,5,8,7]\n",
    "print(two_knapsack(W, V, c=7))  "
   ],
   "outputs": [
    {
     "name": "stdout",
     "output_type": "stream",
     "text": [
      "14\n"
     ]
    }
   ],
   "execution_count": 11
  },
  {
   "cell_type": "markdown",
   "metadata": {},
   "source": [
    "## 问题 10 \n",
    "\n",
    "> 给定两个字符串 $x[1..n]$ 和 $y[1..m]$，我们想通过以下操作将 $x$ 变换为 $y$ :\n",
    ">\n",
    "> **插入**：在 $x$ 中插入一个字符(在任何位置)；**删除**：从 $x$ 中删除一个字符(在任何位置)； **替换**：用另一个字符替换 $x$ 中的一个字符。\n",
    ">\n",
    "> 例如: $x = abcd$, $y = bcfe$，\n",
    ">\n",
    "> - 将 $x$ 转换为 $y$ 的一种可能方法是：1. 删除 $x$ 开头的 $a$, $x$变成 $bcd$； 2. 将 $x$ 中的字符 $d$ 替换为字符 $f$。$x$ 变成 $bcf$； 3. 在 $x$ 的末尾插入字符 $e$。$x$ 变成 $bcfe$。\n",
    ">\n",
    "> - 另一种可能的方法：1. 删除 $x$ 开头的 $a$,  $x$ 变成 $bcd$； 2. 在 $x$ 中字符 $d$ 之前插入字符 $f$。$x$ 变成 $bcfd$。3. 将 $x$ 中的字符 $d$ 替换为字符 $e$。$x$ 变成 $bcfe$。\n",
    "\n",
    "设计一个时间复杂度为 $O(mn)$ 的算法，返回将 $x$ 转换为 $y$ 所需的最少操作次数。分析算法设计思路，并基于python编程实现。\n"
   ]
  },
  {
   "cell_type": "markdown",
   "metadata": {},
   "source": "idea：定义二维数组dp[i][j]为把x[0..i−1]变换成y[0..j−1]所需的最少操作数，其中dp[0][j]=j（从空串插入j个字符）、dp[i][0]=i（删除i个字符）。对每一对(i,j)，我们考虑三种操作：若x[i−1]==y[j−1]，则可不动，dp[i][j]=dp[i−1][j−1]，否则替换字符得dp[i−1][j−1]+1；再比对删除x末尾dp[i−1][j]+1和在x末尾插入y[j−1]的dp[i][j−1]+1，取三者最小即为dp[i][j]。最终dp[n][m]即为将x转换为y的最少操作数。"
  },
  {
   "cell_type": "code",
   "metadata": {
    "ExecuteTime": {
     "end_time": "2025-05-11T13:47:12.222501Z",
     "start_time": "2025-05-11T13:47:12.198015Z"
    }
   },
   "source": [
    "# add your idea here\n",
    "def edit_distance(x: str, y: str) -> int:\n",
    "\n",
    "    n, m = len(x), len(y)\n",
    "    dp = [[0] * (m+1) for _ in range(n+1)]\n",
    "    for i in range(1, n+1):\n",
    "        dp[i][0] = i\n",
    "    for j in range(1, m+1):\n",
    "        dp[0][j] = j\n",
    "\n",
    "    for i in range(1, n+1):\n",
    "        for j in range(1, m+1):\n",
    "            cost_replace = dp[i-1][j-1] + (x[i-1] != y[j-1])\n",
    "            cost_delete  = dp[i-1][j] + 1\n",
    "            cost_insert  = dp[i][j-1] + 1\n",
    "            dp[i][j] = min(cost_replace, cost_delete, cost_insert)\n",
    "\n",
    "    return dp[n][m]\n",
    "\n",
    "\n",
    "x=\"abcd\"\n",
    "y=\"bcfe\"\n",
    "print(f\"{x!r} → {y!r} : edit distance = {edit_distance(x, y)}\")\n",
    "\n",
    "# your algorithm time complexity is: O(mn)"
   ],
   "outputs": [
    {
     "name": "stdout",
     "output_type": "stream",
     "text": [
      "'abcd' → 'bcfe' : edit distance = 3\n"
     ]
    }
   ],
   "execution_count": 13
  }
 ],
 "metadata": {
  "language_info": {
   "name": "python"
  },
  "kernelspec": {
   "name": "python3",
   "language": "python",
   "display_name": "Python 3 (ipykernel)"
  }
 },
 "nbformat": 4,
 "nbformat_minor": 2
}
