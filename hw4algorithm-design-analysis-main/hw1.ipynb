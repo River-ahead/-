{
 "cells": [
  {
   "cell_type": "markdown",
   "metadata": {},
   "source": [
    "## algorithm design and anlysis-2025 spring  homework 1 \n",
    "**Deadline**：2025.5.14\n",
    "\n",
    "**name**:\n",
    "\n",
    "\n",
    "note：\n",
    "---\n",
    "1. 带有\\*的题目，申请免上课的同学，必须完成，其他同学选作；\n",
    "2. 请独立完成，如求助了他人或者大模型，请著明，并且不可省略算法分析部分；\n",
    "4. 如若作答有雷同，全部取消成绩；\n",
    "3. 需要书面作答的题目，可以通过引用图片的形式添加，但是注意上传项目时包含所引用的图片的源文件；\n",
    "4. $log_n$ 默认表示$log_2{n}$;"
   ]
  },
  {
   "cell_type": "markdown",
   "metadata": {},
   "source": [
    "## 问题 1\n",
    "\n",
    "对于下面的每一对表达式(A, B), A是否能表示为B的 $\\Theta, \\Omega ,O$形式. 请注意, 这些关系中的零个、一个或多个可能成立。列出所有正确的。经常发生一些学生会,把指示写错, 所以请把关系写完整, 例如: $A = O(B),  A =\\Theta(B)$, 或$A = \\Omega(B)$。\n",
    "\n",
    "1. $A=n^2-100n, B=n^2$\n",
    "2. $A=logn, B=log_{1.2}n$\n",
    "3. $A=3^{2n}, B=2^{4n}$\n",
    "4. $A=2^{logn}, B=n$\n",
    "5. $A=\\log{\\log}{n},B=10^{10^{100}}$"
   ]
  },
  {
   "metadata": {},
   "cell_type": "markdown",
   "source": ""
  },
  {
   "cell_type": "markdown",
   "metadata": {},
   "source": [
    "can refer a handwritten picture, pleas upload the picture in /fig/xxx.png\n",
    "answer:\n",
    "<div style=\"text-align:center;width:800px;\"> <img alt=\"\" src=\"./fig/hw1_a1.jpg\"> </div>"
   ]
  },
  {
   "cell_type": "markdown",
   "metadata": {},
   "source": [
    "## 问题 2：\n",
    "\n",
    "假设有函数 $f$ 和 $g$ 使得 $f(n)$ = $O(g(n))$ 对于下面的每一个陈述, 请判断对错, 如果正确请给出证明, 否则请给出一个反例。\n",
    "\n",
    "1. $\\log{f(n)}$ = $O(\\log(1+g(n)))$\n",
    "2. $3^{f(n)}=O(3^{g(n)})$\n",
    "3. $(f(n))^2=O((g(n))^2)$ "
   ]
  },
  {
   "metadata": {},
   "cell_type": "code",
   "outputs": [],
   "execution_count": null,
   "source": ""
  },
  {
   "cell_type": "markdown",
   "metadata": {},
   "source": [
    "you can refer a handwritten picture, pleas upload the picture in /fig/xxx.png\n",
    "answer:\n",
    "<div style=\"text-align:center;width:800px;\"> <img alt=\"\" src=\"./fig/hw1_a2.jpg\"> </div>"
   ]
  },
  {
   "cell_type": "markdown",
   "metadata": {},
   "source": [
    "## 问题 3\n",
    "\n",
    "根据下列递归公式, 计算下列 $T(n)$ 对应的的渐近上界。要求所求的边界尽可能的紧（tight）, 请写明步骤。\n",
    "\n",
    "1. $T(1)=1; T(n)=T(n/4)+1$ for $n>1$\n",
    "2. $T(1)=1;T(n)=3T(n/3)+n^2$ for $n>1$\n",
    "3. $T(1)=1;T(n)=T(2n/3)+1$ for $n>1$\n",
    "4. $T(1)=1;T(n)=5T(n/4)+n$ for $n>1$\n",
    "5. $T(n)=1 \\ for\\ n \\le 2 ; T(n)=T(\\sqrt{n})+1 \\ for \\ n>2$"
   ]
  },
  {
   "cell_type": "markdown",
   "metadata": {},
   "source": [
    "can refer a handwritten picture, pleas upload the picture in /fig/xxx.png\n",
    "answer:\n",
    "<div style=\"text-align:center;width:800px;\"> <img alt=\"\" src=\"./fig/hw1_a3.jpg\"> </div>"
   ]
  },
  {
   "cell_type": "markdown",
   "metadata": {},
   "source": [
    "## 问题 4：\n",
    "\n",
    "给定一个包含n个元素的数组 `profits` , 它的第 `i` 个元素 `profits[i]` 表示一支股票第 `i` 天的**收益**（正数表示涨, 负数表示跌）。你只能选择 **某一天** 买入这只股票, 并选择在 **未来的某一个不同的日子** 卖出该股票。\n",
    "\n",
    "1. 设计一个算法来计算你所能获取的最大利润和对应买入和卖出的日期。请分析算法方案, 计算其时间复杂度, 并且使用python编程实现该算法。\n",
    "\n",
    "2. \\* 设计一个时间复杂度为 $O(n)$的算法实现该算法\n",
    "\n",
    "e.g. :\n",
    "---\n",
    "profits=[3,2,1,-7,5,2,-1,3,-1], 第5天买入, 第8天卖出, 收益最大：9\n",
    "\n"
   ]
  },
  {
   "cell_type": "markdown",
   "metadata": {},
   "source": [
    "idea:我们先从头到尾走一遍，把每天的收益都累加起来，记成一份“累积收益表”。比如第1天赚了3，第2天赚了2，那么累积收益就是第1天是3，第2天是3+2=5，以此类推。这一步相当于给我们准备好一个随时能查到从头到第i天一共赚了多少的工具。\n",
    "接下来，我们就琢磨：要是我在第i天买，第j天卖（j≥i），那赚多少钱呢？其实就是第j天的累积收益减去第i−1天的累积收」。因为累积收益里包含了从第1天到第j天的所有赚亏，减去第1天到第i−1天的那部分，就剩下第i天到第j天这一段真正的盈亏。\n",
    "于是，我们把所有可能的买卖对 (i,j) 都算一遍，比较它们的差值，哪一次差最大，就是我们应该选择的买入日和卖出日。"
   ]
  },
  {
   "cell_type": "code",
   "metadata": {
    "ExecuteTime": {
     "end_time": "2025-05-11T11:00:27.505016Z",
     "start_time": "2025-05-11T11:00:27.496039Z"
    }
   },
   "source": [
    "# add your code\n",
    "def max_profit_kadane(profits):\n",
    "    n = len(profits)\n",
    "    best = 0\n",
    "    curr_sum = 0\n",
    "    buy = sell = 0\n",
    "    start = 0\n",
    "    for i in range(n):\n",
    "        if curr_sum <= 0:\n",
    "            curr_sum = profits[i]\n",
    "            start = i\n",
    "        else:\n",
    "            curr_sum += profits[i]\n",
    "        if curr_sum > best:\n",
    "            best = curr_sum\n",
    "            buy = start\n",
    "            sell = i\n",
    "    return best, buy+1, sell+1\n",
    "\n",
    "\n",
    "profits = [3,2,1,-7,5,2,-1,3,-1]\n",
    "best, buy, sell = max_profit_kadane(profits)\n",
    "print(f\"最大收益={best}，第{buy}天买入，第{sell}天卖出\")\n"
   ],
   "outputs": [
    {
     "name": "stdout",
     "output_type": "stream",
     "text": [
      "最大收益=9，第5天买入，第8天卖出\n"
     ]
    }
   ],
   "execution_count": 5
  },
  {
   "metadata": {},
   "cell_type": "markdown",
   "source": "an algorithm with O(n²)"
  },
  {
   "cell_type": "markdown",
   "metadata": {},
   "source": [
    "## 问题 5：\n",
    "\n",
    "观察下方的分治算法（divide-and-conquer algorithm）的伪代码, 回答下面问题\n",
    "\n",
    "```latex\n",
    "DoSomething(A,p,r)\n",
    "-----\n",
    "n := r-p+1\n",
    "if n=2 and A[p]>A[r] then\n",
    "    swap A[p] and A[r]\n",
    "else if n >= 3 then\n",
    "    m = ceil(2n/3)\n",
    "    DoSomething(A,p,p+m-1)\n",
    "    DoSomething(A,r-m+1,r)\n",
    "    DoSomething(A,p,p+m-1)  \n",
    "    \n",
    "---\n",
    "first call: DoSomething(A,1,n)\n",
    "```\n",
    "\n",
    "note：$ceil(2n/3)=\\left\\lceil {2n/3} \\right\\rceil$；$:=$ 表示赋值, 等价于 $\\to$；A是一个包含n的整数元素的数组, \n",
    "\n",
    "1. 写出该算法时间复杂度的递归公式, 并求解其对应的渐进表示\n",
    "2. 描述一下该算法的功能, 并判断是否是最高效的解决方案\n",
    "3. 使用python编程实现上述算法或其对应的更高效版本的算法\n"
   ]
  },
  {
   "cell_type": "markdown",
   "metadata": {},
   "source": [
    "idea："
   ]
  },
  {
   "cell_type": "markdown",
   "metadata": {},
   "source": [
    "answer:"
   ]
  },
  {
   "cell_type": "code",
   "metadata": {
    "ExecuteTime": {
     "end_time": "2025-05-11T11:14:02.274036Z",
     "start_time": "2025-05-11T11:14:02.262093Z"
    }
   },
   "source": [
    "import math\n",
    "\n",
    "def swap(arr, i, j):\n",
    "    arr[i], arr[j] = arr[j], arr[i]\n",
    "def DoSomething(A, p, r):\n",
    "    n = r - p + 1\n",
    "    if n == 2 and A[p - 1] > A[r - 1]:\n",
    "        swap(A, p - 1, r - 1)\n",
    "    elif n >= 3:\n",
    "        m = math.ceil(2 * n / 3)\n",
    "        DoSomething(A, p, p + m - 1)\n",
    "        DoSomething(A, r - m + 1, r)\n",
    "        DoSomething(A, p, p + m - 1)\n",
    "A = [5, 3, 8, 4, 2]\n",
    "n = len(A)\n",
    "DoSomething(A, 1, n)\n",
    "print(A)"
   ],
   "outputs": [
    {
     "name": "stdout",
     "output_type": "stream",
     "text": [
      "[2, 3, 4, 5, 8]\n"
     ]
    }
   ],
   "execution_count": 7
  },
  {
   "cell_type": "markdown",
   "metadata": {},
   "source": [
    "## 问题 6：\n",
    "\n",
    "给定一个大小为 `n` 的数组 `nums` , 返回其中的多数元素。多数元素是指在数组中出现次数 **大于** `⌊ n/2 ⌋` 的元素。\n",
    "\n",
    "你可以假设数组是非空的, 并且给定的数组总是存在多数元素。\n",
    "\n",
    "1. 设计一个算法找到给定数组的多数元素, 分析算法设计思路, 计算算法时间复杂度, 使用python编程实现\n",
    "2. \\* 设计时间复杂度为 O(n)、空间复杂度为 O(1) 的算法解决此问题, 分析算法设计思路, 使用python编程实现\n",
    "\n",
    "e.g.:\n",
    "---\n",
    "1. nums=[3,2,3], 返回3\n",
    "2. nums=[2,2,1,1,1,2,2], 返回2\n"
   ]
  },
  {
   "cell_type": "markdown",
   "metadata": {},
   "source": "Boyer–Moore 投票算法维护一个“候选人”candidate 和一个票数 votes，遍历数组时：若 votes 为 0，则把当前元素提名为新候选人并 votes=1；否则若遇到和候选人相同的元素就 votes++，遇到不同的就 votes––。由于多数元素出现次数超过一半，它与其它元素抵消后仍会留下正票，遍历结束时留下的 candidate 必定是多数元素。"
  },
  {
   "cell_type": "code",
   "metadata": {
    "ExecuteTime": {
     "end_time": "2025-05-11T11:23:48.341069Z",
     "start_time": "2025-05-11T11:23:48.336211Z"
    }
   },
   "source": [
    "# add your code here\n",
    "def majority_element(nums):\n",
    "    candidate = None\n",
    "    votes = 0\n",
    "    for x in nums:\n",
    "        if votes == 0:\n",
    "            candidate, votes = x, 1\n",
    "        elif x == candidate:\n",
    "            votes += 1\n",
    "        else:\n",
    "            votes -= 1\n",
    "    return candidate\n",
    "\n",
    "print(majority_element([3,2,3]))     \n",
    "print(majority_element([2,2,1,1,1,2,2])) \n",
    "\n",
    "# your algorithm time complexity is :O(n)"
   ],
   "outputs": [
    {
     "name": "stdout",
     "output_type": "stream",
     "text": [
      "3\n",
      "2\n"
     ]
    }
   ],
   "execution_count": 9
  },
  {
   "cell_type": "markdown",
   "metadata": {},
   "source": [
    "idea for 2\\*："
   ]
  },
  {
   "cell_type": "code",
   "execution_count": null,
   "metadata": {},
   "outputs": [],
   "source": [
    "# algorithm time complexity：O(n), space complexity:O(1)\n",
    "# add your code here"
   ]
  },
  {
   "cell_type": "markdown",
   "metadata": {},
   "source": [
    "## 问题 7：\n",
    "\n",
    "给定一个包含不同整数元素的数组 $ A[1..n]$ ,并且满足条件：$A[1]>A[2]$ 并且 $A[n-1]<A[n]$; 规定：如果一个元素比它两边的邻居元素都小, 即：$A[x]<A[x-1], A[x]<A[x+1]$ , 称这个元素A[x]为“局部最小”。通过遍历一次数组, 我们可以很容易在 $O(n)$的时间复杂度下找到一个局部最小值, \n",
    "\n",
    "\n",
    "1. 分析该问题, 设计一个算法在$O(logn)$的时间复杂度下找到一个局部最小(返回数值), 要求：分析算法设计思路, 并且使用python编程实现\n",
    "2. \\* 设计算法找出所有局部最小值, 分析算法设计思路, 并使用python编程实现\n",
    "\n",
    "e.g.:\n",
    "---\n",
    "A=[9, 3, 7, 2, 1, 4, 5 ] 时,  局部最小元素为 3, 1\n"
   ]
  },
  {
   "cell_type": "markdown",
   "metadata": {},
   "source": [
    "idea：利用二分查找的“单调性”：数组两端已知 A[0] > A[1] 且 A[n-2] < A[n-1]，因此至少存在一个内部下坡——也就是局部最小。每次取中点 m，比较 A[m] 和它的左右邻居：\n",
    "如果 A[m] < A[m-1] 且 A[m] < A[m+1]，则直接返回；\n",
    "否则如果 A[m-1] < A[m]，说明左侧有下降趋势，局部最小必在 [lo, m-1]，令 hi = m-1；\n",
    "否则在右侧，令 lo = m+1。\n"
   ]
  },
  {
   "cell_type": "code",
   "metadata": {
    "ExecuteTime": {
     "end_time": "2025-05-11T11:32:50.321398Z",
     "start_time": "2025-05-11T11:32:50.310396Z"
    }
   },
   "source": [
    "# add your code here\n",
    "def find_one_local_min(A):\n",
    "  \n",
    "    lo, hi = 1, len(A) - 2\n",
    "    while lo <= hi:\n",
    "        m = (lo + hi) // 2\n",
    "        if A[m] < A[m-1] and A[m] < A[m+1]:\n",
    "            return A[m]\n",
    "        if A[m-1] < A[m]:\n",
    "            hi = m - 1\n",
    "        else:\n",
    "            lo = m + 1\n",
    "print(find_one_local_min([9,3,7,2,1,4,5]))\n",
    "\n",
    "# your algorithm time complexity is :O(log n)"
   ],
   "outputs": [
    {
     "name": "stdout",
     "output_type": "stream",
     "text": [
      "1\n"
     ]
    }
   ],
   "execution_count": 11
  },
  {
   "cell_type": "markdown",
   "metadata": {},
   "source": "idea:一次线性扫描每个内部位置 i=1…n-2，只要 A[i] < A[i-1] 且 A[i] < A[i+1]，就把它收集进结果列表。"
  },
  {
   "cell_type": "code",
   "metadata": {
    "ExecuteTime": {
     "end_time": "2025-05-11T11:34:11.789494Z",
     "start_time": "2025-05-11T11:34:11.783073Z"
    }
   },
   "source": [
    "# add your code here\n",
    "def find_all_local_mins(A):\n",
    "    n = len(A)\n",
    "    res = []\n",
    "    for i in range(1, n-1):\n",
    "        if A[i] < A[i-1] and A[i] < A[i+1]:\n",
    "            res.append(A[i])\n",
    "    return res\n",
    "A = [9, 3, 7, 2, 1, 4, 5]\n",
    "print(find_all_local_mins(A))   \n",
    "\n",
    "# your algorithm time complexity is :O(n)"
   ],
   "outputs": [
    {
     "name": "stdout",
     "output_type": "stream",
     "text": [
      "[3, 1]\n"
     ]
    }
   ],
   "execution_count": 13
  },
  {
   "cell_type": "markdown",
   "metadata": {},
   "source": [
    "## 问题 8：\n",
    "\n",
    "给定包含n个不同数字的一组数, 寻找一种基于比较的算法在这组数中找到k个最小的数字, 并按顺序输出它们。\n",
    "\n",
    "1. 将n个数先进行排序, 然后按顺序输出最小的k个数。要求：选择合适的排序算法实现上述操作, 计算算法时间复杂度, 并使用python编程实现。\n",
    "2. 建立一个包含这n个数的堆（heap）, 并且调用 k 次Extract-min 按顺序输出最小的k个数。使用往空堆中不断插入元素的方法建立堆, 分析这种方法建堆的时间复杂度, 并使用python编程实现\n",
    "3. \\* 假设数组中包含的数据总数目超过了计算机的存储能力, 请设计一个算法, 找到这堆数据的前k小的数值, 计算时间复杂度, 并使用python实现该算法, 假设计算机一定能存储k个数据。\n",
    "\n",
    "e.g.：\n",
    "---\n",
    "数组arr=[5,4,3,2,6,1,88,33,22,107] 的前3个最小数据为：1, 2, 3\n"
   ]
  },
  {
   "cell_type": "markdown",
   "metadata": {},
   "source": "idea：先对整个数组做排序，然后取前k个即可。"
  },
  {
   "cell_type": "code",
   "metadata": {
    "ExecuteTime": {
     "end_time": "2025-05-11T11:39:18.331168Z",
     "start_time": "2025-05-11T11:39:18.323967Z"
    }
   },
   "source": [
    "# add your code here\n",
    "def k_smallest_by_sort(arr, k):\n",
    "    return sorted(arr)[:k]\n",
    "\n",
    "arr = [5,4,3,2,6,1,88,33,22,107]\n",
    "print(k_smallest_by_sort(arr, 3))\n",
    "\n",
    "\n",
    "import heapq\n",
    "def k_smallest_by_heap(arr, k):\n",
    "    h = arr[:]             \n",
    "    heapq.heapify(h)        \n",
    "    res = []\n",
    "    for _ in range(k):  \n",
    "        res.append(heapq.heappop(h))  \n",
    "    return res\n",
    "\n",
    "print(k_smallest_by_heap(arr, 3)) \n",
    "\n",
    "# your algorithm time complexity is :O(log n),O(n+klogn)"
   ],
   "outputs": [
    {
     "name": "stdout",
     "output_type": "stream",
     "text": [
      "[1, 2, 3]\n",
      "[1, 2, 3]\n"
     ]
    }
   ],
   "execution_count": 15
  },
  {
   "cell_type": "markdown",
   "metadata": {},
   "source": [
    "## 问题 9：\n",
    "\n",
    "**选择问题**:给定一个包含n个未排序值的数组A和一个$k≤n$的整数, 返回A中最小的第k项。\n",
    "\n",
    "在课堂上, 学了一个简单的O(n)随机算法来解决选择问题。事实上还有一种更复杂的最坏情况下时间复杂度为$O(n)$ 的选择算法。假设使用一个黑盒过程来实现这个O(n)选择算法: 给定一个数组A、 $p < r$ 和 k,  $BB(A, p, r, k)$ 可以在$O(r−p+ 1)$时间内找到并报告$A[p..r]$中第k小的项的下标。假设你可以在线性时间内处理Partition过程。\n",
    "\n",
    "1. 请分析如何修改 Quicksork 算法可以使其最差情况下的运行时间为 $O(nlogn)$, 使用伪代码实现, 并分析为何修改后的版本最差情况的运行时间为$O(nlogn)$\n",
    "\n",
    "note: 伪代码中, 你可以直接调用用` BB(A,p,r,k)`这个函数用于表示在最坏情况下时间复杂度为$O(n)$的选择算法；\n",
    "\n",
    "\n",
    "\n",
    "2. 找到一个更好的算法报告数组A中的前k小的项, 使用伪代码表示你的算法, 并分析你算法的时间复杂度。\n",
    "\n",
    "举例：A=[13, 3, 7, 9, 11, 1, 15, 2, 8, 10, 12, 16, 14, 5], 当k=4时, 应该报告1, 2, 3, 4\n",
    "\n",
    "note： 最直观的方法就是先将数组A排序, 然后从左向右报告其前k项, 这样操作的时间复杂度为$O(nlogn)$. 调用用` BB(A,p,r,k)`设计一个算法使其报告无序数组A的前k项, 满足时间复杂度好于$\\Theta(nlogn)$, 并且当$k=\\sqrt{n}$时, 你设计的算法时间复杂度应该为$\\Theta(n)$.\n",
    "\n",
    "\n",
    "\n",
    "3. 给定一个大小为n的数组, 找到一个 时间复杂度为$O(n log k)$ 的算法, 该算法将A中的元素重新排序, 使它们被划分为k个部分, 每个部分的元素小于或等于下一部分的元素。假设n和k都是2的幂。使用伪代码表示你的算法, 并分析时间复杂度。\n",
    "\n",
    "e.g.:\n",
    "---\n",
    "数组：[1,  3,  5,  7,  9,  11,  13,  15,  2,  4,  6,  8,  10,  12,  16,  14], k=4, \n",
    "\n",
    "对应重新排序的数组为：[1,  3,  2,  4]  [7,  6,  5,  8]  [12,  11,  10,  9]  [13,  14,  16,  15]\n",
    "\n",
    "\n"
   ]
  },
  {
   "cell_type": "markdown",
   "metadata": {},
   "source": "idea："
  },
  {
   "cell_type": "code",
   "execution_count": null,
   "metadata": {},
   "outputs": [],
   "source": [
    "# add your pseudo-code here\n",
    "# QuickSortBB(A, p, r):\n",
    "#     if p < r:\n",
    "#         mid_rank = ⌊(r - p + 2) / 2⌋\n",
    "#         pivot = BB(A, p, r, mid_rank)  \n",
    "#         q = Partition(A, p, r, pivot)    \n",
    "#         QuickSortBB(A, p, q - 1)\n",
    "#         QuickSortBB(A, q + 1, r)\n",
    "\n",
    "# ReportKSmall(A, n, k):\n",
    "#     x = BB(A, 1, n, k)       \n",
    "#     mid = PartitionByValue(A, 1, n, x)   \n",
    "#     Sort(A, 1, mid)           \n",
    "#     return A[1..mid]\n",
    "\n",
    "# MultiSelect(A, lo, hi, S):\n",
    "#     if S.empty() or lo >= hi:\n",
    "#         return\n",
    "#     m = len(S) // 2\n",
    "#     s_mid = S[m]  \n",
    "#     x = BB(A, lo, hi, s_mid - (lo-1))\n",
    "#     p = PartitionByValue(A, lo, hi, x)\n",
    "#     MultiSelect(A, lo,   p, S[0:m])  \n",
    "#     MultiSelect(A, p+1, hi, S[m+1:]) \n",
    "# S = [i * n//k for i in range(1, k)]\n",
    "# MultiSelect(A, 1, n, S)\n",
    "\n"
   ]
  },
  {
   "cell_type": "markdown",
   "metadata": {},
   "source": [
    "## 问题 10：\n",
    "\n",
    "给定一个包含m个**字符串**的数组A, 其中不同的字符串可能有不同的字符数, 但数组中所有字符串的字符总数为n。设计一个算法在 $O(n)$ 时间内对字符串进行排序, 分析算法设计方案, 计算其时间复杂度, 并基于python编程实现该算法。请注意, 假设字符串只包含\"a\",\"b\",...,\"z\", \n",
    "\n",
    "\n",
    "\n",
    "举例1：数组A=[\"a\", \"da\", \"bde\", \"ab\", \"bc\", \"abdc\", \"cdba\"], 排序后的数组应该为：['a', 'ab', 'abdc', 'bc', 'bde', 'cdba', 'da']\n",
    "\n",
    "\n",
    "\n",
    "举例2：数组A=['ab', 'a', 'b', 'abc', 'ba', 'c'], 排序后的数组应该为：\n",
    "\n",
    "['a', 'ab', 'abc', 'b', 'ba', 'c']\n",
    "\n",
    "\n",
    "\n",
    "举例3：数组A=['aef', 'yzr', 'wr', 'ab', 'bhjc', 'lkabdc', 'pwcdba'],  排序后的数组应该为：['ab', 'aef', 'bhjc', 'lkabdc', 'pwcdba', 'wr', 'yzr']\n",
    "\n",
    "\n",
    "\n",
    "note：\n",
    "\n",
    "-  两个字符之间的比较可以考虑比较他们对应的ASCII码值；\n",
    "- python中可以使用`ord(\"a\")`返回字符 “a”对应的ASCII值"
   ]
  },
  {
   "cell_type": "markdown",
   "metadata": {},
   "source": [
    "idea:创建根节点，遍历每个字符串，把它插入到 Trie 中：每读入一个字符就沿着对应子指针移动（如果不存在就新建节点），字符串末尾在该节点上做一个“结束标记”。\n",
    "插入一个长为 L 的字符串耗时 O(L)，整个过程对所有字符串耗时 ∑L=n。\n",
    "按字典序 DFS 输出\n",
    "从根节点开始，按照字母 'a'…'z' 的顺序依次遍历子节点。\n",
    "每到一个“结束标记”节点，就把当前路径上累积的字符拼成一个字符串，加入结果列表。\n",
    "由于每条边（字符）只 “走入” 和 “退回” 各一次，整棵 Trie 上的 DFS 访问次数也是 O(节点数)，节点数上界为所有字符数之和再加一些常数，所以也是 O(n)。"
   ]
  },
  {
   "cell_type": "code",
   "metadata": {
    "ExecuteTime": {
     "end_time": "2025-05-11T11:48:21.072707Z",
     "start_time": "2025-05-11T11:48:21.062729Z"
    }
   },
   "source": [
    "# add your code here\n",
    "from typing import List\n",
    "\n",
    "class TrieNode:\n",
    "    __slots__ = ('children', 'is_end')\n",
    "    def __init__(self):\n",
    "        # 26 个小写字母 child 指针，初始化为 None\n",
    "        self.children = [None] * 26\n",
    "        # 标记此节点是否对应一个完整字符串的结尾\n",
    "        self.is_end = False\n",
    "\n",
    "class LexSorter:\n",
    "    def __init__(self):\n",
    "        self.root = TrieNode()\n",
    "    \n",
    "    def _char_idx(self, ch: str) -> int:\n",
    "        return ord(ch) - ord('a')\n",
    "    \n",
    "    def insert(self, word: str) -> None:\n",
    "        node = self.root\n",
    "        for ch in word:\n",
    "            i = self._char_idx(ch)\n",
    "            if node.children[i] is None:\n",
    "                node.children[i] = TrieNode()\n",
    "            node = node.children[i]\n",
    "        node.is_end = True\n",
    "    \n",
    "    def _dfs(self, node: TrieNode, path: List[str], out: List[str]) -> None:\n",
    "        if node.is_end:\n",
    "            # 拼出当前路径对应的字符串\n",
    "            out.append(''.join(path))\n",
    "\n",
    "        for i in range(26):\n",
    "            child = node.children[i]\n",
    "            if child is not None:\n",
    "\n",
    "                path.append(chr(ord('a') + i))\n",
    "                self._dfs(child, path, out)\n",
    "                path.pop()\n",
    "    \n",
    "    def sort(self, words: List[str]) -> List[str]:\n",
    "        for w in words:\n",
    "            self.insert(w)\n",
    "  \n",
    "        result: List[str] = []\n",
    "        self._dfs(self.root, [], result)\n",
    "        return result\n",
    "\n",
    "# 测试\n",
    "if __name__ == '__main__':\n",
    "    arr = [\"a\", \"da\", \"bde\", \"ab\", \"bc\", \"abdc\", \"cdba\"]\n",
    "    print(LexSorter().sort(arr))\n",
    "    arr2 = ['ab', 'a', 'b', 'abc', 'ba', 'c']\n",
    "    print(LexSorter().sort(arr2))\n",
    "    arr3 = ['aef', 'yzr', 'wr', 'ab', 'bhjc', 'lkabdc', 'pwcdb a'.replace(' ', '')]\n",
    "    print(LexSorter().sort(arr3))\n",
    "\n",
    "# your algorithm time complexity is :O(n)"
   ],
   "outputs": [
    {
     "name": "stdout",
     "output_type": "stream",
     "text": [
      "['a', 'ab', 'abdc', 'bc', 'bde', 'cdba', 'da']\n",
      "['a', 'ab', 'abc', 'b', 'ba', 'c']\n",
      "['ab', 'aef', 'bhjc', 'lkabdc', 'pwcdba', 'wr', 'yzr']\n"
     ]
    }
   ],
   "execution_count": 16
  }
 ],
 "metadata": {
  "language_info": {
   "name": "python"
  },
  "kernelspec": {
   "name": "python3",
   "language": "python",
   "display_name": "Python 3 (ipykernel)"
  }
 },
 "nbformat": 4,
 "nbformat_minor": 2
}
