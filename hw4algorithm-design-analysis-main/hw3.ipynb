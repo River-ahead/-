{
 "cells": [
  {
   "cell_type": "markdown",
   "metadata": {},
   "source": [
    "## algorithm design and anlysis-2025 spring  homework 3\n",
    "**Deadline**：2025.5.14\n",
    "\n",
    "**name**:\n",
    "\n",
    "\n",
    "note：\n",
    "---\n",
    "1. 带有\\*的题目，申请免上课的同学，必须完成，其他同学选作；\n",
    "2. 请独立完成，如求助了他人或者大模型，请著明，并且不可省略算法分析部分；\n",
    "4. 如若作答有雷同，全部取消成绩；\n",
    "3. 需要书面作答的题目，可以通过引用图片的形式添加，但是注意上传项目时包含所引用的图片的源文件；\n",
    "4. $log_n$ 默认表示$log_2{n}$;"
   ]
  },
  {
   "cell_type": "markdown",
   "metadata": {},
   "source": [
    "## 问题 1  \n",
    "\n",
    "请证明基于比较的排序算法计算复杂度下界为$\\Omega(nlogn)$"
   ]
  },
  {
   "metadata": {},
   "cell_type": "markdown",
   "source": ""
  },
  {
   "cell_type": "markdown",
   "metadata": {},
   "source": [
    "you can refer a handwritten picture, pleas upload the picture in /fig/xxx.png\n",
    "answer：<div style=\"text-align:center;width:800px;\"> <img alt=\"\" src=\"./fig/hw3_a1.jpg\"> </div>"
   ]
  },
  {
   "cell_type": "markdown",
   "metadata": {},
   "source": [
    "## 问题 2 \n",
    "\n",
    "构建二叉搜索树\n",
    "\n",
    "> 1. 给定一个数组 [48, 33, 49, 47, 42, 46, 32], 构建一个二叉搜索树存储这些数据，请**绘制**所构建的**二叉搜索树**（标明结点的值）。\n",
    "> 2. 从第1问的二叉搜索树中删除33，请**绘制**删除33后的**二叉搜索树**（标明结点的值）\n",
    "\n",
    "- 推荐使用graphviz包绘制树的结构"
   ]
  },
  {
   "cell_type": "markdown",
   "metadata": {},
   "source": [
    "you can refer a handwritten picture, pleas upload the picture in /fig/xxx.png\n",
    "answer：<div style=\"text-align:center;width:800px;\"> <img alt=\"\" src=\"./fig/hw3_a2.jpg\"> </div>"
   ]
  },
  {
   "metadata": {
    "ExecuteTime": {
     "end_time": "2025-05-11T14:20:29.670293Z",
     "start_time": "2025-05-11T14:20:29.592324Z"
    }
   },
   "cell_type": "code",
   "source": "",
   "outputs": [
    {
     "ename": "ExecutableNotFound",
     "evalue": "failed to execute WindowsPath('dot'), make sure the Graphviz executables are on your systems' PATH",
     "output_type": "error",
     "traceback": [
      "\u001B[1;31m---------------------------------------------------------------------------\u001B[0m",
      "\u001B[1;31mFileNotFoundError\u001B[0m                         Traceback (most recent call last)",
      "File \u001B[1;32mD:\\Program File\\JetBrains2024\\python\\python\\lib\\site-packages\\graphviz\\backend\\execute.py:78\u001B[0m, in \u001B[0;36mrun_check\u001B[1;34m(cmd, input_lines, encoding, quiet, **kwargs)\u001B[0m\n\u001B[0;32m     77\u001B[0m     \u001B[38;5;28;01melse\u001B[39;00m:\n\u001B[1;32m---> 78\u001B[0m         proc \u001B[38;5;241m=\u001B[39m subprocess\u001B[38;5;241m.\u001B[39mrun(cmd, \u001B[38;5;241m*\u001B[39m\u001B[38;5;241m*\u001B[39mkwargs)\n\u001B[0;32m     79\u001B[0m \u001B[38;5;28;01mexcept\u001B[39;00m \u001B[38;5;167;01mOSError\u001B[39;00m \u001B[38;5;28;01mas\u001B[39;00m e:\n",
      "File \u001B[1;32mD:\\Program File\\JetBrains2024\\python\\python\\lib\\subprocess.py:503\u001B[0m, in \u001B[0;36mrun\u001B[1;34m(input, capture_output, timeout, check, *popenargs, **kwargs)\u001B[0m\n\u001B[0;32m    501\u001B[0m     kwargs[\u001B[38;5;124m'\u001B[39m\u001B[38;5;124mstderr\u001B[39m\u001B[38;5;124m'\u001B[39m] \u001B[38;5;241m=\u001B[39m PIPE\n\u001B[1;32m--> 503\u001B[0m \u001B[38;5;28;01mwith\u001B[39;00m Popen(\u001B[38;5;241m*\u001B[39mpopenargs, \u001B[38;5;241m*\u001B[39m\u001B[38;5;241m*\u001B[39mkwargs) \u001B[38;5;28;01mas\u001B[39;00m process:\n\u001B[0;32m    504\u001B[0m     \u001B[38;5;28;01mtry\u001B[39;00m:\n",
      "File \u001B[1;32mD:\\Program File\\JetBrains2024\\python\\python\\lib\\subprocess.py:971\u001B[0m, in \u001B[0;36mPopen.__init__\u001B[1;34m(self, args, bufsize, executable, stdin, stdout, stderr, preexec_fn, close_fds, shell, cwd, env, universal_newlines, startupinfo, creationflags, restore_signals, start_new_session, pass_fds, user, group, extra_groups, encoding, errors, text, umask, pipesize)\u001B[0m\n\u001B[0;32m    968\u001B[0m             \u001B[38;5;28mself\u001B[39m\u001B[38;5;241m.\u001B[39mstderr \u001B[38;5;241m=\u001B[39m io\u001B[38;5;241m.\u001B[39mTextIOWrapper(\u001B[38;5;28mself\u001B[39m\u001B[38;5;241m.\u001B[39mstderr,\n\u001B[0;32m    969\u001B[0m                     encoding\u001B[38;5;241m=\u001B[39mencoding, errors\u001B[38;5;241m=\u001B[39merrors)\n\u001B[1;32m--> 971\u001B[0m     \u001B[38;5;28;43mself\u001B[39;49m\u001B[38;5;241;43m.\u001B[39;49m\u001B[43m_execute_child\u001B[49m\u001B[43m(\u001B[49m\u001B[43margs\u001B[49m\u001B[43m,\u001B[49m\u001B[43m \u001B[49m\u001B[43mexecutable\u001B[49m\u001B[43m,\u001B[49m\u001B[43m \u001B[49m\u001B[43mpreexec_fn\u001B[49m\u001B[43m,\u001B[49m\u001B[43m \u001B[49m\u001B[43mclose_fds\u001B[49m\u001B[43m,\u001B[49m\n\u001B[0;32m    972\u001B[0m \u001B[43m                        \u001B[49m\u001B[43mpass_fds\u001B[49m\u001B[43m,\u001B[49m\u001B[43m \u001B[49m\u001B[43mcwd\u001B[49m\u001B[43m,\u001B[49m\u001B[43m \u001B[49m\u001B[43menv\u001B[49m\u001B[43m,\u001B[49m\n\u001B[0;32m    973\u001B[0m \u001B[43m                        \u001B[49m\u001B[43mstartupinfo\u001B[49m\u001B[43m,\u001B[49m\u001B[43m \u001B[49m\u001B[43mcreationflags\u001B[49m\u001B[43m,\u001B[49m\u001B[43m \u001B[49m\u001B[43mshell\u001B[49m\u001B[43m,\u001B[49m\n\u001B[0;32m    974\u001B[0m \u001B[43m                        \u001B[49m\u001B[43mp2cread\u001B[49m\u001B[43m,\u001B[49m\u001B[43m \u001B[49m\u001B[43mp2cwrite\u001B[49m\u001B[43m,\u001B[49m\n\u001B[0;32m    975\u001B[0m \u001B[43m                        \u001B[49m\u001B[43mc2pread\u001B[49m\u001B[43m,\u001B[49m\u001B[43m \u001B[49m\u001B[43mc2pwrite\u001B[49m\u001B[43m,\u001B[49m\n\u001B[0;32m    976\u001B[0m \u001B[43m                        \u001B[49m\u001B[43merrread\u001B[49m\u001B[43m,\u001B[49m\u001B[43m \u001B[49m\u001B[43merrwrite\u001B[49m\u001B[43m,\u001B[49m\n\u001B[0;32m    977\u001B[0m \u001B[43m                        \u001B[49m\u001B[43mrestore_signals\u001B[49m\u001B[43m,\u001B[49m\n\u001B[0;32m    978\u001B[0m \u001B[43m                        \u001B[49m\u001B[43mgid\u001B[49m\u001B[43m,\u001B[49m\u001B[43m \u001B[49m\u001B[43mgids\u001B[49m\u001B[43m,\u001B[49m\u001B[43m \u001B[49m\u001B[43muid\u001B[49m\u001B[43m,\u001B[49m\u001B[43m \u001B[49m\u001B[43mumask\u001B[49m\u001B[43m,\u001B[49m\n\u001B[0;32m    979\u001B[0m \u001B[43m                        \u001B[49m\u001B[43mstart_new_session\u001B[49m\u001B[43m)\u001B[49m\n\u001B[0;32m    980\u001B[0m \u001B[38;5;28;01mexcept\u001B[39;00m:\n\u001B[0;32m    981\u001B[0m     \u001B[38;5;66;03m# Cleanup if the child failed starting.\u001B[39;00m\n",
      "File \u001B[1;32mD:\\Program File\\JetBrains2024\\python\\python\\lib\\subprocess.py:1456\u001B[0m, in \u001B[0;36mPopen._execute_child\u001B[1;34m(self, args, executable, preexec_fn, close_fds, pass_fds, cwd, env, startupinfo, creationflags, shell, p2cread, p2cwrite, c2pread, c2pwrite, errread, errwrite, unused_restore_signals, unused_gid, unused_gids, unused_uid, unused_umask, unused_start_new_session)\u001B[0m\n\u001B[0;32m   1455\u001B[0m \u001B[38;5;28;01mtry\u001B[39;00m:\n\u001B[1;32m-> 1456\u001B[0m     hp, ht, pid, tid \u001B[38;5;241m=\u001B[39m \u001B[43m_winapi\u001B[49m\u001B[38;5;241;43m.\u001B[39;49m\u001B[43mCreateProcess\u001B[49m\u001B[43m(\u001B[49m\u001B[43mexecutable\u001B[49m\u001B[43m,\u001B[49m\u001B[43m \u001B[49m\u001B[43margs\u001B[49m\u001B[43m,\u001B[49m\n\u001B[0;32m   1457\u001B[0m \u001B[43m                             \u001B[49m\u001B[38;5;66;43;03m# no special security\u001B[39;49;00m\n\u001B[0;32m   1458\u001B[0m \u001B[43m                             \u001B[49m\u001B[38;5;28;43;01mNone\u001B[39;49;00m\u001B[43m,\u001B[49m\u001B[43m \u001B[49m\u001B[38;5;28;43;01mNone\u001B[39;49;00m\u001B[43m,\u001B[49m\n\u001B[0;32m   1459\u001B[0m \u001B[43m                             \u001B[49m\u001B[38;5;28;43mint\u001B[39;49m\u001B[43m(\u001B[49m\u001B[38;5;129;43;01mnot\u001B[39;49;00m\u001B[43m \u001B[49m\u001B[43mclose_fds\u001B[49m\u001B[43m)\u001B[49m\u001B[43m,\u001B[49m\n\u001B[0;32m   1460\u001B[0m \u001B[43m                             \u001B[49m\u001B[43mcreationflags\u001B[49m\u001B[43m,\u001B[49m\n\u001B[0;32m   1461\u001B[0m \u001B[43m                             \u001B[49m\u001B[43menv\u001B[49m\u001B[43m,\u001B[49m\n\u001B[0;32m   1462\u001B[0m \u001B[43m                             \u001B[49m\u001B[43mcwd\u001B[49m\u001B[43m,\u001B[49m\n\u001B[0;32m   1463\u001B[0m \u001B[43m                             \u001B[49m\u001B[43mstartupinfo\u001B[49m\u001B[43m)\u001B[49m\n\u001B[0;32m   1464\u001B[0m \u001B[38;5;28;01mfinally\u001B[39;00m:\n\u001B[0;32m   1465\u001B[0m     \u001B[38;5;66;03m# Child is launched. Close the parent's copy of those pipe\u001B[39;00m\n\u001B[0;32m   1466\u001B[0m     \u001B[38;5;66;03m# handles that only the child should have open.  You need\u001B[39;00m\n\u001B[1;32m   (...)\u001B[0m\n\u001B[0;32m   1469\u001B[0m     \u001B[38;5;66;03m# pipe will not close when the child process exits and the\u001B[39;00m\n\u001B[0;32m   1470\u001B[0m     \u001B[38;5;66;03m# ReadFile will hang.\u001B[39;00m\n",
      "\u001B[1;31mFileNotFoundError\u001B[0m: [WinError 2] 系统找不到指定的文件。",
      "\nThe above exception was the direct cause of the following exception:\n",
      "\u001B[1;31mExecutableNotFound\u001B[0m                        Traceback (most recent call last)",
      "Cell \u001B[1;32mIn[12], line 17\u001B[0m\n\u001B[0;32m     14\u001B[0m     dot\u001B[38;5;241m.\u001B[39medge(u, v)\n\u001B[0;32m     16\u001B[0m \u001B[38;5;66;03m# 输出到文件 bst.png\u001B[39;00m\n\u001B[1;32m---> 17\u001B[0m \u001B[43mdot\u001B[49m\u001B[38;5;241;43m.\u001B[39;49m\u001B[43mrender\u001B[49m\u001B[43m(\u001B[49m\u001B[38;5;124;43m'\u001B[39;49m\u001B[38;5;124;43mbst\u001B[39;49m\u001B[38;5;124;43m'\u001B[39;49m\u001B[43m,\u001B[49m\u001B[43m \u001B[49m\u001B[43mcleanup\u001B[49m\u001B[38;5;241;43m=\u001B[39;49m\u001B[38;5;28;43;01mTrue\u001B[39;49;00m\u001B[43m)\u001B[49m\n",
      "File \u001B[1;32mD:\\Program File\\JetBrains2024\\python\\python\\lib\\site-packages\\graphviz\\_tools.py:171\u001B[0m, in \u001B[0;36mdeprecate_positional_args.<locals>.decorator.<locals>.wrapper\u001B[1;34m(*args, **kwargs)\u001B[0m\n\u001B[0;32m    162\u001B[0m     wanted \u001B[38;5;241m=\u001B[39m \u001B[38;5;124m'\u001B[39m\u001B[38;5;124m, \u001B[39m\u001B[38;5;124m'\u001B[39m\u001B[38;5;241m.\u001B[39mjoin(\u001B[38;5;124mf\u001B[39m\u001B[38;5;124m'\u001B[39m\u001B[38;5;132;01m{\u001B[39;00mname\u001B[38;5;132;01m}\u001B[39;00m\u001B[38;5;124m=\u001B[39m\u001B[38;5;132;01m{\u001B[39;00mvalue\u001B[38;5;132;01m!r}\u001B[39;00m\u001B[38;5;124m'\u001B[39m\n\u001B[0;32m    163\u001B[0m                        \u001B[38;5;28;01mfor\u001B[39;00m name, value \u001B[38;5;129;01min\u001B[39;00m deprecated\u001B[38;5;241m.\u001B[39mitems())\n\u001B[0;32m    164\u001B[0m     warnings\u001B[38;5;241m.\u001B[39mwarn(\u001B[38;5;124mf\u001B[39m\u001B[38;5;124m'\u001B[39m\u001B[38;5;124mThe signature of \u001B[39m\u001B[38;5;132;01m{\u001B[39;00mfunc\u001B[38;5;241m.\u001B[39m\u001B[38;5;18m__name__\u001B[39m\u001B[38;5;132;01m}\u001B[39;00m\u001B[38;5;124m will be reduced\u001B[39m\u001B[38;5;124m'\u001B[39m\n\u001B[0;32m    165\u001B[0m                   \u001B[38;5;124mf\u001B[39m\u001B[38;5;124m'\u001B[39m\u001B[38;5;124m to \u001B[39m\u001B[38;5;132;01m{\u001B[39;00msupported_number\u001B[38;5;132;01m}\u001B[39;00m\u001B[38;5;124m positional args\u001B[39m\u001B[38;5;124m'\u001B[39m\n\u001B[0;32m    166\u001B[0m                   \u001B[38;5;124mf\u001B[39m\u001B[38;5;124m'\u001B[39m\u001B[38;5;124m \u001B[39m\u001B[38;5;132;01m{\u001B[39;00m\u001B[38;5;28mlist\u001B[39m(supported)\u001B[38;5;132;01m}\u001B[39;00m\u001B[38;5;124m: pass \u001B[39m\u001B[38;5;132;01m{\u001B[39;00mwanted\u001B[38;5;132;01m}\u001B[39;00m\u001B[38;5;124m'\u001B[39m\n\u001B[0;32m    167\u001B[0m                   \u001B[38;5;124m'\u001B[39m\u001B[38;5;124m as keyword arg(s)\u001B[39m\u001B[38;5;124m'\u001B[39m,\n\u001B[0;32m    168\u001B[0m                   stacklevel\u001B[38;5;241m=\u001B[39mstacklevel,\n\u001B[0;32m    169\u001B[0m                   category\u001B[38;5;241m=\u001B[39mcategory)\n\u001B[1;32m--> 171\u001B[0m \u001B[38;5;28;01mreturn\u001B[39;00m func(\u001B[38;5;241m*\u001B[39margs, \u001B[38;5;241m*\u001B[39m\u001B[38;5;241m*\u001B[39mkwargs)\n",
      "File \u001B[1;32mD:\\Program File\\JetBrains2024\\python\\python\\lib\\site-packages\\graphviz\\rendering.py:122\u001B[0m, in \u001B[0;36mRender.render\u001B[1;34m(self, filename, directory, view, cleanup, format, renderer, formatter, neato_no_op, quiet, quiet_view, outfile, engine, raise_if_result_exists, overwrite_source)\u001B[0m\n\u001B[0;32m    118\u001B[0m filepath \u001B[38;5;241m=\u001B[39m \u001B[38;5;28mself\u001B[39m\u001B[38;5;241m.\u001B[39msave(filename, directory\u001B[38;5;241m=\u001B[39mdirectory, skip_existing\u001B[38;5;241m=\u001B[39m\u001B[38;5;28;01mNone\u001B[39;00m)\n\u001B[0;32m    120\u001B[0m args\u001B[38;5;241m.\u001B[39mappend(filepath)\n\u001B[1;32m--> 122\u001B[0m rendered \u001B[38;5;241m=\u001B[39m \u001B[38;5;28mself\u001B[39m\u001B[38;5;241m.\u001B[39m_render(\u001B[38;5;241m*\u001B[39margs, \u001B[38;5;241m*\u001B[39m\u001B[38;5;241m*\u001B[39mkwargs)\n\u001B[0;32m    124\u001B[0m \u001B[38;5;28;01mif\u001B[39;00m cleanup:\n\u001B[0;32m    125\u001B[0m     log\u001B[38;5;241m.\u001B[39mdebug(\u001B[38;5;124m'\u001B[39m\u001B[38;5;124mdelete \u001B[39m\u001B[38;5;132;01m%r\u001B[39;00m\u001B[38;5;124m'\u001B[39m, filepath)\n",
      "File \u001B[1;32mD:\\Program File\\JetBrains2024\\python\\python\\lib\\site-packages\\graphviz\\_tools.py:171\u001B[0m, in \u001B[0;36mdeprecate_positional_args.<locals>.decorator.<locals>.wrapper\u001B[1;34m(*args, **kwargs)\u001B[0m\n\u001B[0;32m    162\u001B[0m     wanted \u001B[38;5;241m=\u001B[39m \u001B[38;5;124m'\u001B[39m\u001B[38;5;124m, \u001B[39m\u001B[38;5;124m'\u001B[39m\u001B[38;5;241m.\u001B[39mjoin(\u001B[38;5;124mf\u001B[39m\u001B[38;5;124m'\u001B[39m\u001B[38;5;132;01m{\u001B[39;00mname\u001B[38;5;132;01m}\u001B[39;00m\u001B[38;5;124m=\u001B[39m\u001B[38;5;132;01m{\u001B[39;00mvalue\u001B[38;5;132;01m!r}\u001B[39;00m\u001B[38;5;124m'\u001B[39m\n\u001B[0;32m    163\u001B[0m                        \u001B[38;5;28;01mfor\u001B[39;00m name, value \u001B[38;5;129;01min\u001B[39;00m deprecated\u001B[38;5;241m.\u001B[39mitems())\n\u001B[0;32m    164\u001B[0m     warnings\u001B[38;5;241m.\u001B[39mwarn(\u001B[38;5;124mf\u001B[39m\u001B[38;5;124m'\u001B[39m\u001B[38;5;124mThe signature of \u001B[39m\u001B[38;5;132;01m{\u001B[39;00mfunc\u001B[38;5;241m.\u001B[39m\u001B[38;5;18m__name__\u001B[39m\u001B[38;5;132;01m}\u001B[39;00m\u001B[38;5;124m will be reduced\u001B[39m\u001B[38;5;124m'\u001B[39m\n\u001B[0;32m    165\u001B[0m                   \u001B[38;5;124mf\u001B[39m\u001B[38;5;124m'\u001B[39m\u001B[38;5;124m to \u001B[39m\u001B[38;5;132;01m{\u001B[39;00msupported_number\u001B[38;5;132;01m}\u001B[39;00m\u001B[38;5;124m positional args\u001B[39m\u001B[38;5;124m'\u001B[39m\n\u001B[0;32m    166\u001B[0m                   \u001B[38;5;124mf\u001B[39m\u001B[38;5;124m'\u001B[39m\u001B[38;5;124m \u001B[39m\u001B[38;5;132;01m{\u001B[39;00m\u001B[38;5;28mlist\u001B[39m(supported)\u001B[38;5;132;01m}\u001B[39;00m\u001B[38;5;124m: pass \u001B[39m\u001B[38;5;132;01m{\u001B[39;00mwanted\u001B[38;5;132;01m}\u001B[39;00m\u001B[38;5;124m'\u001B[39m\n\u001B[0;32m    167\u001B[0m                   \u001B[38;5;124m'\u001B[39m\u001B[38;5;124m as keyword arg(s)\u001B[39m\u001B[38;5;124m'\u001B[39m,\n\u001B[0;32m    168\u001B[0m                   stacklevel\u001B[38;5;241m=\u001B[39mstacklevel,\n\u001B[0;32m    169\u001B[0m                   category\u001B[38;5;241m=\u001B[39mcategory)\n\u001B[1;32m--> 171\u001B[0m \u001B[38;5;28;01mreturn\u001B[39;00m func(\u001B[38;5;241m*\u001B[39margs, \u001B[38;5;241m*\u001B[39m\u001B[38;5;241m*\u001B[39mkwargs)\n",
      "File \u001B[1;32mD:\\Program File\\JetBrains2024\\python\\python\\lib\\site-packages\\graphviz\\backend\\rendering.py:326\u001B[0m, in \u001B[0;36mrender\u001B[1;34m(engine, format, filepath, renderer, formatter, neato_no_op, quiet, outfile, raise_if_result_exists, overwrite_filepath)\u001B[0m\n\u001B[0;32m    322\u001B[0m cmd \u001B[38;5;241m+\u001B[39m\u001B[38;5;241m=\u001B[39m args\n\u001B[0;32m    324\u001B[0m \u001B[38;5;28;01massert\u001B[39;00m filepath \u001B[38;5;129;01mis\u001B[39;00m \u001B[38;5;129;01mnot\u001B[39;00m \u001B[38;5;28;01mNone\u001B[39;00m, \u001B[38;5;124m'\u001B[39m\u001B[38;5;124mwork around pytype false alarm\u001B[39m\u001B[38;5;124m'\u001B[39m\n\u001B[1;32m--> 326\u001B[0m \u001B[43mexecute\u001B[49m\u001B[38;5;241;43m.\u001B[39;49m\u001B[43mrun_check\u001B[49m\u001B[43m(\u001B[49m\u001B[43mcmd\u001B[49m\u001B[43m,\u001B[49m\n\u001B[0;32m    327\u001B[0m \u001B[43m                  \u001B[49m\u001B[43mcwd\u001B[49m\u001B[38;5;241;43m=\u001B[39;49m\u001B[43mfilepath\u001B[49m\u001B[38;5;241;43m.\u001B[39;49m\u001B[43mparent\u001B[49m\u001B[43m \u001B[49m\u001B[38;5;28;43;01mif\u001B[39;49;00m\u001B[43m \u001B[49m\u001B[43mfilepath\u001B[49m\u001B[38;5;241;43m.\u001B[39;49m\u001B[43mparent\u001B[49m\u001B[38;5;241;43m.\u001B[39;49m\u001B[43mparts\u001B[49m\u001B[43m \u001B[49m\u001B[38;5;28;43;01melse\u001B[39;49;00m\u001B[43m \u001B[49m\u001B[38;5;28;43;01mNone\u001B[39;49;00m\u001B[43m,\u001B[49m\n\u001B[0;32m    328\u001B[0m \u001B[43m                  \u001B[49m\u001B[43mquiet\u001B[49m\u001B[38;5;241;43m=\u001B[39;49m\u001B[43mquiet\u001B[49m\u001B[43m,\u001B[49m\n\u001B[0;32m    329\u001B[0m \u001B[43m                  \u001B[49m\u001B[43mcapture_output\u001B[49m\u001B[38;5;241;43m=\u001B[39;49m\u001B[38;5;28;43;01mTrue\u001B[39;49;00m\u001B[43m)\u001B[49m\n\u001B[0;32m    331\u001B[0m \u001B[38;5;28;01mreturn\u001B[39;00m os\u001B[38;5;241m.\u001B[39mfspath(outfile)\n",
      "File \u001B[1;32mD:\\Program File\\JetBrains2024\\python\\python\\lib\\site-packages\\graphviz\\backend\\execute.py:81\u001B[0m, in \u001B[0;36mrun_check\u001B[1;34m(cmd, input_lines, encoding, quiet, **kwargs)\u001B[0m\n\u001B[0;32m     79\u001B[0m \u001B[38;5;28;01mexcept\u001B[39;00m \u001B[38;5;167;01mOSError\u001B[39;00m \u001B[38;5;28;01mas\u001B[39;00m e:\n\u001B[0;32m     80\u001B[0m     \u001B[38;5;28;01mif\u001B[39;00m e\u001B[38;5;241m.\u001B[39merrno \u001B[38;5;241m==\u001B[39m errno\u001B[38;5;241m.\u001B[39mENOENT:\n\u001B[1;32m---> 81\u001B[0m         \u001B[38;5;28;01mraise\u001B[39;00m ExecutableNotFound(cmd) \u001B[38;5;28;01mfrom\u001B[39;00m\u001B[38;5;250m \u001B[39m\u001B[38;5;21;01me\u001B[39;00m\n\u001B[0;32m     82\u001B[0m     \u001B[38;5;28;01mraise\u001B[39;00m\n\u001B[0;32m     84\u001B[0m \u001B[38;5;28;01mif\u001B[39;00m \u001B[38;5;129;01mnot\u001B[39;00m quiet \u001B[38;5;129;01mand\u001B[39;00m proc\u001B[38;5;241m.\u001B[39mstderr:\n",
      "\u001B[1;31mExecutableNotFound\u001B[0m: failed to execute WindowsPath('dot'), make sure the Graphviz executables are on your systems' PATH"
     ]
    }
   ],
   "execution_count": 12
  },
  {
   "cell_type": "markdown",
   "metadata": {},
   "source": [
    "## 问题 3 \n",
    "\n",
    "> 下面是九门课程的开始和结束时间:\n",
    ">\n",
    "> [(9:00,12:30), (11:00,14:00), (13:00, 14:30), (9:00,10:30),(13:00, 14:30),(14:00,16:30), (15:00,16:30), (15:00,16:30), (9:00,10:30)]\n",
    ">\n",
    "> 请使用贪婪算法为这九门课分配教室，要求在同一天内安排这些课，并且每个教室同一时间只能安排一门课。\n",
    "\n",
    "**请问最少需要几间教室，罗列出每个教室安排的课程**"
   ]
  },
  {
   "cell_type": "markdown",
   "metadata": {},
   "source": [
    "idea：\n",
    "\n",
    "1. 问题抽象  将每门课看作一个区间 \\([s_i, e_i)\\)。  目标是给所有区间着色（分配教室），使得同一时间的区间不共用一个颜色（教室），并且使用最少的颜色数。\n",
    "\n",
    "2. 贪心策略 按开始时间升序 对所有区间排序。用一个小根堆`heap` 来维护当前已分配各教室的**最早空闲时间**（即各教室上一次课程的结束时间）。\n",
    "\n",
    "3. 分配流程  遍历每个课程区间 (s, e)：\n",
    "       a. 如果 heap.top() ≤ s： 说明某教室已空闲；弹出 heap.top()，复用该教室。\n",
    "       b. 否则：需要开辟一个新教室。\n",
    "       c. 将 e（该教室的新空闲时间）推入 heap。"
   ]
  },
  {
   "cell_type": "code",
   "metadata": {
    "vscode": {
     "languageId": "plaintext"
    },
    "ExecuteTime": {
     "end_time": "2025-04-26T14:59:17.457913Z",
     "start_time": "2025-04-26T14:59:17.447354Z"
    }
   },
   "source": [
    "# code：\n",
    "import heapq\n",
    "\n",
    "import null\n",
    "\n",
    "\n",
    "def to_minutes(t: str) -> int:\n",
    "    h, m = map(int, t.split(':'))\n",
    "    return h * 60 + m\n",
    "\n",
    "def to_time_str(m: int) -> str:\n",
    "    return f\"{m//60}:{m%60:02d}\"\n",
    "\n",
    "# 原始 9 门课（按题目给出的顺序）\n",
    "courses = [\n",
    "    (\"9:00\",  \"12:30\"),\n",
    "    (\"11:00\", \"14:00\"),\n",
    "    (\"13:00\", \"14:30\"),\n",
    "    (\"9:00\",  \"10:30\"),\n",
    "    (\"13:00\", \"14:30\"),\n",
    "    (\"14:00\", \"16:30\"),\n",
    "    (\"15:00\", \"16:30\"),\n",
    "    (\"15:00\", \"16:30\"),\n",
    "    (\"9:00\",  \"10:30\"),\n",
    "]\n",
    "\n",
    "intervals = [\n",
    "    (to_minutes(s), to_minutes(e), i+1)\n",
    "    for i, (s, e) in enumerate(courses)\n",
    "]\n",
    "\n",
    "intervals.sort(key=lambda x: x[0])\n",
    "\n",
    "heap = []\n",
    "rooms = {}\n",
    "\n",
    "for st, ed, idx in intervals:\n",
    "    if heap and heap[0][0] <= st:\n",
    "        free_time, room_id = heapq.heappop(heap)\n",
    "    else:\n",
    "        room_id = len(rooms) + 1\n",
    "        rooms[room_id] = []\n",
    "\n",
    "    rooms[room_id].append((idx, st, ed))\n",
    "    heapq.heappush(heap, (ed, room_id))\n",
    "\n",
    "print(f\"最少需要教室数：{len(rooms)}\\n\")\n",
    "for r in sorted(rooms):\n",
    "    print(f\"教室 {r}：\")\n",
    "    for idx, st, ed in rooms[r]:\n",
    "        print(f\"  课程 {idx}: {to_time_str(st)} - {to_time_str(ed)}\")\n",
    "    print()\n"
   ],
   "outputs": [
    {
     "name": "stdout",
     "output_type": "stream",
     "text": [
      "最少需要教室数：3\n",
      "\n",
      "教室 1：\n",
      "  课程 1: 9:00 - 12:30\n",
      "  课程 5: 13:00 - 14:30\n",
      "  课程 7: 15:00 - 16:30\n",
      "\n",
      "教室 2：\n",
      "  课程 4: 9:00 - 10:30\n",
      "  课程 2: 11:00 - 14:00\n",
      "  课程 6: 14:00 - 16:30\n",
      "\n",
      "教室 3：\n",
      "  课程 9: 9:00 - 10:30\n",
      "  课程 3: 13:00 - 14:30\n",
      "  课程 8: 15:00 - 16:30\n",
      "\n"
     ]
    }
   ],
   "execution_count": 1
  },
  {
   "cell_type": "markdown",
   "metadata": {},
   "source": [
    "## 问题 4 \n",
    "\n",
    "> 爬楼梯问题：假设爬楼梯时你每次只能爬一阶或者爬两阶，问爬上n阶的楼梯，你一共有多少种方法\n",
    "\n",
    "请设计算法完成该问题，分析算法设计思路，计算时间复杂度，并基于python编程实现"
   ]
  },
  {
   "cell_type": "markdown",
   "metadata": {},
   "source": [
    "idea：\n",
    "\n",
    "1. 问题抽象 爬到第 n 阶楼梯，每次只能爬 1 阶或 2 阶。  记 f(k) 为到达第 k 阶的方法总数。\n",
    "\n",
    "2. 状态转移 最后一步要么从 k–1 迈 1 阶过来，要么从 k–2 迈 2 阶过来。  因此：  \n",
    "     f(k) = f(k–1) + f(k–2)\n",
    "3. 初始条件 \n",
    " f(0) = 1 （不动也算一种方案）  \n",
    "f(1) = 1 （只能迈 1 阶）\n",
    "4. 实现方式\n",
    "自底向上 DP：从 2 算到 n。  \n",
    "滚动数组优化：只保留 f(k–2) 和 f(k–1)，空间降到 O(1)。\n",
    "5. 复杂度分析  \n",
    " 时间复杂度：一次从 2 到 n 的循环，O(n)  \n",
    "空间复杂度：O(1)（只用常数个变量保存最近状态）\n"
   ]
  },
  {
   "cell_type": "code",
   "metadata": {
    "ExecuteTime": {
     "end_time": "2025-04-26T15:01:29.264810Z",
     "start_time": "2025-04-26T15:01:29.260270Z"
    }
   },
   "source": [
    "# add your code here\n",
    "def climb_stairs(n: int) -> int:\n",
    "\n",
    "    if n <= 1:\n",
    "        return 1\n",
    "\n",
    "    a, b = 1, 1\n",
    "    for _ in range(2, n + 1):\n",
    "        a, b = b, a + b \n",
    "    return b\n",
    "\n",
    "for n in range(6):\n",
    "    print(f\"n={n} -> {climb_stairs(n)} 种方法\")\n",
    "\n",
    "# your algorithm time complexity is: O(n)"
   ],
   "outputs": [
    {
     "name": "stdout",
     "output_type": "stream",
     "text": [
      "n=0 -> 1 种方法\n",
      "n=1 -> 1 种方法\n",
      "n=2 -> 2 种方法\n",
      "n=3 -> 3 种方法\n",
      "n=4 -> 5 种方法\n",
      "n=5 -> 8 种方法\n"
     ]
    }
   ],
   "execution_count": 2
  },
  {
   "cell_type": "markdown",
   "metadata": {},
   "source": [
    "## 问题 5 \n",
    "\n",
    "> 0-1背包问题：现在有4块大理石，每个大理石对应的重量和价值使用一个元组表示, 即（重量，价值），4块大理石的重量和价值为：[(5,10), (4,40), (6,30), (3, 50)], 假设你有一辆最大承重为9的小推车，请问使用这个小推车装大理石的最大价值为多少\n",
    "\n",
    "请设计一个算法解决该问题，分析算法设计思路，计算时间复杂度，并基于python编程实现"
   ]
  },
  {
   "cell_type": "markdown",
   "metadata": {},
   "source": [
    "idea：\n",
    "1. 问题抽象\n",
    "有 \\(n\\) 件物品，每件物品有重量 \\(wt_i\\) 和价值 \\(val_i\\)。  \n",
    " 背包最大承重为 \\(W\\)，每件物品只能选 0 或 1 次，求最大总价值。\n",
    "\n",
    "2. 状态定义\n",
    "用一维数组 `dp[w]` 表示当前背包容量恰为 `w` 时能达到的最大价值。\n",
    "\n",
    "3. 状态转移（倒序遍历）\n",
    "对于第 \\(i\\) 件物品（`wt=wt_i`, `v=val_i`），  dp[w] = max(dp[w], dp[w - wt] + v)   for w = W..wt\n",
    "“倒序”确保每件物品只被使用一次。\n",
    "\n",
    "4. 初始化\n",
    " `dp[0..W]` 初始全 0。\n",
    "\n"
   ]
  },
  {
   "cell_type": "code",
   "metadata": {
    "ExecuteTime": {
     "end_time": "2025-05-11T14:28:38.803072Z",
     "start_time": "2025-05-11T14:28:38.787393Z"
    }
   },
   "source": [
    "# add your code here\n",
    "def knapsack_01(weights, values, W):\n",
    "\n",
    "    n = len(weights)\n",
    "\n",
    "    dp = [0] * (W + 1)\n",
    "\n",
    "    for i in range(n):\n",
    "        wt, val = weights[i], values[i]\n",
    "        for w in range(W, wt - 1, -1):\n",
    "            dp[w] = max(dp[w], dp[w - wt] + val)\n",
    "\n",
    "    return dp[W]\n",
    "\n",
    "\n",
    "weights = [5, 4, 6, 3]\n",
    "values  = [10, 40, 30, 50]\n",
    "W = 9\n",
    "\n",
    "max_value = knapsack_01(weights, values, W)\n",
    "print(f\"最大可装价值 = {max_value}\")\n",
    "\n",
    "# your algorithm time complexity is:O(nW)"
   ],
   "outputs": [
    {
     "name": "stdout",
     "output_type": "stream",
     "text": [
      "最大可装价值 = 90\n"
     ]
    }
   ],
   "execution_count": 1
  },
  {
   "cell_type": "markdown",
   "metadata": {},
   "source": [
    "## 问题 6 \n",
    "给定 `n` 个非负整数表示每个宽度为 `1` 的柱子的高度图，计算按此排列的柱子，下雨之后能接多少雨水。\n",
    "\n",
    "\n",
    "\n",
    "<div style=\"text-align:center;width:800px;\"> <img alt=\"\" src=\"./fig/hw3q6.png\"> </div>\n",
    "\n",
    "请分析算法设计思路，计算时间复杂度，并基于python编程实现"
   ]
  },
  {
   "cell_type": "markdown",
   "metadata": {},
   "source": [
    "idea：\n",
    "1. 问题抽象\n",
    "   给定数组 `height[0..n-1]`，每个元素表示宽度为 1 的柱子高度，求柱子间能接多少雨水。\n",
    "\n",
    "2. 双指针维护左右最高令 `left = 0`, `right = n-1`，同时维护 `left_max`（左侧最高）、`right_max`（右侧最高）。  当 `height[left] < height[right]` 时：  \n",
    "     - 若 `height[left] ≥ left_max`，更新 `left_max = height[left]`；  \n",
    "     - 否则，当前位置可接雨水 `left_max - height[left]`，累加到答案中；  \n",
    "     - 然后 `left += 1`。  \n",
    "   - 否则（`height[left] ≥ height[right]`）：  \n",
    "     - 若 `height[right] ≥ right_max`，更新 `right_max = height[right]`；  \n",
    "     - 否则，当前位置可接雨水 `right_max - height[right]`，累加到答案中；  \n",
    "     - 然后 `right -= 1`。  \n",
    "   - 这样每次都“消除”较低一侧，并且能在一次线性扫描中正确累水。\n",
    "\n",
    "3. 结束条件\n",
    "   当 `left > right` 时扫描结束，累计值即为最终能接到的雨水总量。\n"
   ]
  },
  {
   "cell_type": "code",
   "metadata": {
    "ExecuteTime": {
     "end_time": "2025-05-11T14:31:12.452413Z",
     "start_time": "2025-05-11T14:31:12.436701Z"
    }
   },
   "source": [
    "# add your code here\n",
    "def trap_rain_water(height: list[int]) -> int:\n",
    "    \"\"\"\n",
    "    计算柱状图接雨水的总量，双指针法。\n",
    "    时间复杂度 O(n)，空间复杂度 O(1)。\n",
    "    \"\"\"\n",
    "    if not height:\n",
    "        return 0\n",
    "\n",
    "    left, right = 0, len(height) - 1\n",
    "    left_max = right_max = 0\n",
    "    trapped = 0\n",
    "\n",
    "    while left <= right:\n",
    "        if height[left] < height[right]:\n",
    "            # 左侧较低，决定用 left_max\n",
    "            if height[left] >= left_max:\n",
    "                left_max = height[left]\n",
    "            else:\n",
    "                trapped += left_max - height[left]\n",
    "            left += 1\n",
    "        else:\n",
    "            # 右侧较低或相等，决定用 right_max\n",
    "            if height[right] >= right_max:\n",
    "                right_max = height[right]\n",
    "            else:\n",
    "                trapped += right_max - height[right]\n",
    "            right -= 1\n",
    "\n",
    "    return trapped\n",
    "\n",
    "# 示例测试\n",
    "if __name__ == \"__main__\":\n",
    "    examples = [\n",
    "        ([0,1,0,2,1,0,1,3,2,1,2,1], 6),\n",
    "        ([4,2,0,3,2,5], 9),\n",
    "    ]\n",
    "    for hs, expected in examples:\n",
    "        result = trap_rain_water(hs)\n",
    "        print(f\"height={hs}\\n  -> trapped={result} (expected {expected})\\n\")\n",
    "\n",
    "# your algorithm time complexity is:O(n)。"
   ],
   "outputs": [
    {
     "name": "stdout",
     "output_type": "stream",
     "text": [
      "height=[0, 1, 0, 2, 1, 0, 1, 3, 2, 1, 2, 1]\n",
      "  -> trapped=6 (expected 6)\n",
      "\n",
      "height=[4, 2, 0, 3, 2, 5]\n",
      "  -> trapped=9 (expected 9)\n",
      "\n"
     ]
    }
   ],
   "execution_count": 2
  },
  {
   "cell_type": "markdown",
   "metadata": {},
   "source": [
    "## 问题 7 \n",
    "\n",
    "**股票投资组合优化**： 假设你是一位投资者，想要在不同的股票中分配你的资金，以最大化你的投资回报。每只股票都有不同的预期收益率和风险。你的目标是选择一些股票，使得总投资金额不超过你的预算，并且预期收益最大化。\n",
    "\n",
    "在这个情况下，你可以将每只股票视为一个“物品”，其重量为投资金额，价值为预期收益率。然后，你可以使用分级背包问题的方法来选择部分股票，以便在预算内获得最大的预期收益。\n",
    "\n",
    "以下是一个简化的例子：\n",
    "\n",
    "假设你有以下三只股票可供选择：\n",
    "\n",
    "1. 股票 A：投资金额 5000 美元，预期收益率 10%\n",
    "2. 股票 B：投资金额 3000 美元，预期收益率 8%\n",
    "3. 股票 C：投资金额 2000 美元，预期收益率 12%\n",
    "\n",
    "请设计算法找到最优投资方案，分析算法设计思路，计算时间复杂度，并基于python编程实现"
   ]
  },
  {
   "cell_type": "markdown",
   "metadata": {},
   "source": [
    "idea：算法思路（动态规划）\n",
    "\n",
    "1. **状态定义**  \n",
    "   \\[\n",
    "     dp[i][j] = \\text{前 } i \\text{ 只股票中，预算为 } j \\text{ 时可获得的最大绝对收益}\n",
    "   \\]\n",
    "\n",
    "2. **状态转移**  \n",
    "   对于第 \\(i\\) 只股票，若其重量为 \\(w_i\\)、价值为 \\(v_i\\)：\n",
    "   \\[\n",
    "     dp[i][j] = \n",
    "     \\begin{cases}\n",
    "       \\max\\bigl(dp[i-1][j],\\; dp[i-1][j - w_i] + v_i\\bigr), & j \\ge w_i,\\\\\n",
    "       dp[i-1][j], & j < w_i.\n",
    "     \\end{cases}\n",
    "   \\]\n",
    "\n",
    "3. **初始条件**  \n",
    "   \\[\n",
    "     dp[0][j] = 0,\\quad j=0,1,\\dots,W.\n",
    "   \\]\n",
    "\n",
    "4. **结果**  \n",
    "   \\[\n",
    "     \\max\\text{收益} = dp[n][W].\n",
    "   \\]\n",
    "\n"
   ]
  },
  {
   "cell_type": "code",
   "metadata": {
    "ExecuteTime": {
     "end_time": "2025-05-04T15:10:03.925273Z",
     "start_time": "2025-05-04T15:10:03.907618Z"
    }
   },
   "source": [
    "# add your code here\n",
    "from typing import List, Tuple\n",
    "\n",
    "def optimize_portfolio(\n",
    "    stocks: List[Tuple[str, int, float]],\n",
    "    budget: int\n",
    ") -> Tuple[float, List[str]]:\n",
    "\n",
    "    n = len(stocks)\n",
    "    costs = [s[1] for s in stocks]\n",
    "    values = [s[1] * s[2] for s in stocks]\n",
    "    names  = [s[0] for s in stocks]\n",
    "\n",
    "    dp = [[0.0] * (budget + 1) for _ in range(n + 1)]\n",
    "\n",
    "    for i in range(1, n + 1):\n",
    "        w_i = costs[i-1]\n",
    "        v_i = values[i-1]\n",
    "        for j in range(budget + 1):\n",
    "\n",
    "            dp[i][j] = dp[i-1][j]\n",
    "            if j >= w_i:\n",
    "                candidate = dp[i-1][j - w_i] + v_i\n",
    "                if candidate > dp[i][j]:\n",
    "                    dp[i][j] = candidate\n",
    "\n",
    "    selected = []\n",
    "    j = budget\n",
    "    for i in range(n, 0, -1):\n",
    "        if dp[i][j] != dp[i-1][j]:\n",
    "            selected.append(names[i-1])\n",
    "            j -= costs[i-1]\n",
    "\n",
    "    selected.reverse()\n",
    "    return dp[n][budget], selected\n",
    "\n",
    "\n",
    "stocks = [\n",
    "        (\"A\", 5000, 0.10),  \n",
    "        (\"B\", 3000, 0.08), \n",
    "        (\"C\", 2000, 0.12),  \n",
    "    ]\n",
    "budget = 7000 \n",
    "\n",
    "max_return, picks = optimize_portfolio(stocks, budget)\n",
    "print(f\"预算={budget}，最大绝对收益={max_return:.2f} 美元\")\n",
    "print(\"选股方案：\", picks)\n",
    "# your algorithm time complexity is:O(nW)"
   ],
   "outputs": [
    {
     "name": "stdout",
     "output_type": "stream",
     "text": [
      "预算=7000，最大绝对收益=740.00 美元\n",
      "选股方案： ['A', 'C']\n"
     ]
    }
   ],
   "execution_count": 1
  },
  {
   "cell_type": "markdown",
   "metadata": {},
   "source": [
    "## 问题 8\n",
    "\n",
    "给你二叉搜索树的根节点 root ，该树中的恰好两个节点的值被错误地交换。请在不改变其结构的情况下，恢复这棵树 。设计算法解决该问题，分析算法设计思路，计算时间复杂度，并基于python编程实现\n",
    "\n",
    "e.g.:\n",
    "---\n",
    "1.\n",
    "\n",
    "<div style=\"text-align:center;width:200px;\"> <img alt=\"\" src=\"./fig/hw3q9-1.jpg\"> </div>\n",
    "输入：root = [1,3,null,null,2]， 输出为：[3,1,null,null,2]， \n",
    "\n",
    "解释：3 不能是 1 的左孩子，因为 3 > 1 。交换 1 和 3 使二叉搜索树有效。\n",
    "\n",
    "2.\n",
    "\n",
    " <div style=\"text-align:center;width:200px;\"> <img alt=\"\" src=\"./fig/hw3q9-1.jpg\"> </div>\n",
    "输入： root=[3,1,4,null,null,2]， 输出为：[2,1,4,null,null,3]\n",
    "\n",
    "解释：2 不能在 3 的右子树中，因为 2 < 3 。交换 2 和 3 使二叉搜索树有效。"
   ]
  },
  {
   "cell_type": "markdown",
   "metadata": {},
   "source": [
    "idea：\n",
    "算法思路（中序遍历 + 双指针）  \n",
    "BST 的中序遍历序列应当是**严格递增**的。若有两点被交换，则中序遍历中会出现**一次或两次逆序对**。我们通过下面步骤定位这两个节点：\n",
    "\n",
    "1. **中序遍历**  \n",
    "   - 递归（或迭代）进行中序遍历，维护一个指针 `prev` 指向上一个访问的节点。\n",
    "\n",
    "2. **发现逆序**  \n",
    "   - 每次访问当前节点 `cur` 时，检查 `prev.val > cur.val`。若是“逆序”：\n",
    "     - 第一次逆序时，将 `first = prev`，`second = cur`。\n",
    "     - 第二次逆序时，更新 `second = cur`（`first` 保持第一次发现的位置）。\n",
    "\n",
    "3. **交换值**  \n",
    "   - 遍历结束后，`first` 和 `second` 就是被错换的两节点，将它们的 `.val` 互换即可恢复 BST。"
   ]
  },
  {
   "cell_type": "code",
   "metadata": {
    "ExecuteTime": {
     "end_time": "2025-05-11T14:35:27.867175Z",
     "start_time": "2025-05-11T14:35:27.838895Z"
    }
   },
   "source": [
    "# add your code here\n",
    "class TreeNode:\n",
    "    def __init__(self, val=0, left=None, right=None):\n",
    "        self.val = val\n",
    "        self.left = left\n",
    "        self.right = right\n",
    "\n",
    "def recover_bst(root: TreeNode) -> None:\n",
    " \n",
    "    first = second = prev = None\n",
    "\n",
    "    def inorder(node):\n",
    "        nonlocal first, second, prev\n",
    "        if not node:\n",
    "            return\n",
    "\n",
    "        inorder(node.left)\n",
    "        if prev and prev.val > node.val:\n",
    "            # 第一次逆序，记录 prev 和 node\n",
    "            if not first:\n",
    "                first, second = prev, node\n",
    "            else:\n",
    "                # 第二次逆序，更新 second\n",
    "                second = node\n",
    "        prev = node\n",
    "        # 递归右子树\n",
    "        inorder(node.right)\n",
    "\n",
    "    # 执行中序遍历，找到 first, second\n",
    "    inorder(root)\n",
    "    # 交换值恢复 BST\n",
    "    if first and second:\n",
    "        first.val, second.val = second.val, first.val\n",
    "\n",
    "def build_tree(vals: list) -> TreeNode | None:\n",
    "\n",
    "    if not vals:\n",
    "        return None\n",
    "    nodes = [None if v is None else TreeNode(v) for v in vals]\n",
    "    kid_idx = 1\n",
    "    for i, node in enumerate(nodes):\n",
    "        if node is not None:\n",
    "            if kid_idx < len(nodes):\n",
    "                node.left = nodes[kid_idx]\n",
    "                kid_idx += 1\n",
    "            if kid_idx < len(nodes):\n",
    "                node.right = nodes[kid_idx]\n",
    "                kid_idx += 1\n",
    "    return nodes[0]\n",
    "\n",
    "\n",
    "def tree_to_list(root: TreeNode | None) -> list:\n",
    " \n",
    "    if not root:\n",
    "        return []\n",
    "    from collections import deque\n",
    "    q = deque([root])\n",
    "    out = []\n",
    "    while q:\n",
    "        node = q.popleft()\n",
    "        if node:\n",
    "            out.append(node.val)\n",
    "            q.append(node.left)\n",
    "            q.append(node.right)\n",
    "        else:\n",
    "            out.append(None)\n",
    "    # 去掉末尾多余的 None\n",
    "    while out and out[-1] is None:\n",
    "        out.pop()\n",
    "    return out\n",
    "\n",
    "\n",
    "\n",
    "tests = [\n",
    "        # (输入层序列表, 预期恢复后的层序列表)\n",
    "        ([1, 3, None, None, 2], [3, 1, None, None, 2]),\n",
    "        ([3, 1, 4, None, None, 2], [2, 1, 4, None, None, 3]),\n",
    "    ]\n",
    "\n",
    "for before, expected in tests:\n",
    "    root = build_tree(before)\n",
    "    print(\"Before :\", before)\n",
    "    recover_bst(root)\n",
    "    after = tree_to_list(root)\n",
    "    print(\"After  :\", after)\n",
    "    print(\"Expect :\", expected)\n",
    "    print(\"PASS   :\", after == expected)\n",
    "# your algorithm time complexity is:"
   ],
   "outputs": [
    {
     "name": "stdout",
     "output_type": "stream",
     "text": [
      "Before : [1, 3, None, None, 2]\n",
      "After  : [3, 1, None, None, 2]\n",
      "Expect : [3, 1, None, None, 2]\n",
      "PASS   : True\n",
      "Before : [3, 1, 4, None, None, 2]\n",
      "After  : [2, 1, 4, None, None, 3]\n",
      "Expect : [2, 1, 4, None, None, 3]\n",
      "PASS   : True\n"
     ]
    }
   ],
   "execution_count": 5
  },
  {
   "cell_type": "markdown",
   "metadata": {},
   "source": [
    "## 问题 9  \n",
    "\n",
    "给你一个二叉树的根节点 root ，树中每个节点都存放有一个 0 到 9 之间的数字。每条从根节点到叶节点的路径都代表一个数字：\n",
    "\n",
    "> 例如，从根节点到叶节点的路径 1 -> 2 -> 3 表示数字 123 。\n",
    "\n",
    "设计一个算法计算从根节点到叶节点生成的所有数字之和 ，分析算法设计思路，计算时间复杂度，并基于python编程实现\n",
    "\n",
    "叶节点:是指没有子节点的节点。\n",
    "\n",
    "e.g.:\n",
    "---\n",
    "1.\n",
    "\n",
    " <div style=\"text-align:center;width:200px;\"> <img alt=\"figure\" src=\"./fig/hw3q10-1.jpg\"> </div>\n",
    "\n",
    " 输入：root = [1,2,3], 输出：25\n",
    "\n",
    "解释：从根到叶子节点路径 1->2 代表数字 12，1->3 代表数字 13，因此和为 12 + 13 = 25 。\n",
    "\n",
    "2.\n",
    "\n",
    " <div style=\"text-align:center;width:200px;\"> <img alt=\"figure\" src=\"./fig/hw3q10-2.jpg\"> </div>\n",
    "\n",
    " 输入：root = [4,9,0,5,1], 输出：1026\n",
    "\n",
    "解释：从根到叶子节点路径 4->9->5 代表数字 495，4->9->1 代表数字 491，4->0 代表数字 40。因此和为 495 + 491 + 40 = 1026 。"
   ]
  },
  {
   "cell_type": "markdown",
   "metadata": {},
   "source": [
    "idea：\n",
    "1. **问题抽象**  \n",
    "   给定一棵二叉树，每个节点存一个 0–9 的数字。每条从根到叶子的路径拼接出一个多位数，求所有这些路径对应数值之和。\n",
    "\n",
    "2. **前序遍历累积**  \n",
    "   - 定义递归函数 `dfs(node, cur)` 表示当前遍历到 `node`，`cur` 是从根到父节点已拼出的数值。  \n",
    "   - 进入 `node` 时，更新当前数值 `cur = cur * 10 + node.val`。  \n",
    "   - 若 `node` 是叶子节点（`node.left` 和 `node.right` 都为空），则将 `cur` 累加到全局结果中。  \n",
    "   - 否则，递归遍历 `node.left` 和 `node.right`，将更新后的 `cur` 传下去。"
   ]
  },
  {
   "cell_type": "code",
   "metadata": {
    "ExecuteTime": {
     "end_time": "2025-05-11T14:34:37.949094Z",
     "start_time": "2025-05-11T14:34:37.917901Z"
    }
   },
   "source": [
    "# add your code here\n",
    "class TreeNode:\n",
    "    def __init__(self, val: int=0, left=None, right=None):\n",
    "        self.val = val\n",
    "        self.left = left\n",
    "        self.right = right\n",
    "\n",
    "def sum_root_to_leaf(root: TreeNode) -> int:\n",
    "    total = 0\n",
    "\n",
    "    def dfs(node: TreeNode, cur: int):\n",
    "        nonlocal total\n",
    "        if not node:\n",
    "            return\n",
    "        cur = cur * 10 + node.val\n",
    "        if not node.left and not node.right:\n",
    "            total += cur\n",
    "            return\n",
    "        dfs(node.left, cur)\n",
    "        dfs(node.right, cur)\n",
    "\n",
    "    dfs(root, 0)\n",
    "    return total\n",
    "\n",
    "\n",
    "\n",
    "from collections import deque\n",
    "def build_tree(vals: list[int]) -> TreeNode | None:\n",
    "    if not vals:\n",
    "        return None\n",
    "    nodes = [None if v is None else TreeNode(v) for v in vals]\n",
    "    q = deque(nodes)\n",
    "    root = q.popleft()\n",
    "    for node in q:\n",
    "        if node:\n",
    "            parent = nodes.pop(0)\n",
    "     \n",
    "            if q:\n",
    "                    node.left = q.popleft()\n",
    "            if q:\n",
    "                    node.right = q.popleft()\n",
    "    return root\n",
    "\n",
    "\n",
    "root1 = TreeNode(1, TreeNode(2), TreeNode(3))\n",
    "print(sum_root_to_leaf(root1))  \n",
    "\n",
    "\n",
    "root2 = TreeNode(4,\n",
    "                TreeNode(9, TreeNode(5), TreeNode(1)),\n",
    "                TreeNode(0))\n",
    "print(sum_root_to_leaf(root2))  \n",
    "# your algorithm time complexity is: ：O(n)，"
   ],
   "outputs": [
    {
     "name": "stdout",
     "output_type": "stream",
     "text": [
      "25\n",
      "1026\n"
     ]
    }
   ],
   "execution_count": 3
  },
  {
   "cell_type": "markdown",
   "metadata": {},
   "source": [
    "## 问题 10  \n",
    "\n",
    "给你一个二叉树的根节点 root ， 检查它是否轴对称。\n",
    "\n",
    "1. 分析算法设计思路，计算时间复杂度，并基于python编程实现\n",
    "2. \\* 设计使用递归和迭代两种方法解决这个问题，计算时间复杂度，并基于python编程实现\n",
    "\n",
    "e.g.:\n",
    "---\n",
    "1.\n",
    "\n",
    " <div style=\"text-align:center;width:200px;\"> <img alt=\"figure\" src=\"./fig/hw3q11-1.png\"> </div>\n",
    "\n",
    " 输入：root = [1,2,2,3,4,4,3]， 输出：true\n",
    "\n",
    "解释：二叉树 [1,2,2,3,4,4,3] 对称。\n",
    "\n",
    "2.\n",
    "\n",
    " <div style=\"text-align:center;width:200px;\"> <img alt=\"figure\" src=\"./fig/hw3q11-2.png\"> </div>\n",
    "\n",
    " 输入：root = [1,2,2,null,3,null,3]， 输出：false"
   ]
  },
  {
   "cell_type": "markdown",
   "metadata": {},
   "source": [
    "idea\n",
    "递归方法\n",
    "\n",
    "### 1. 算法思路  \n",
    "- 对称的定义：一棵树左子树与右子树互为镜像。  \n",
    "- 设计一个辅助函数 `is_mirror(t1, t2)`：  \n",
    "  1. 如果 `t1` 和 `t2` 都为空，返回 `True`；  \n",
    "  2. 如果其中一个为空或 `t1.val != t2.val`，返回 `False`；  \n",
    "  3. 递归检查：  \n",
    "     - `t1` 的左子树与 `t2` 的右子树是否镜像  \n",
    "     - **且** `t1` 的右子树与 `t2` 的左子树是否镜像  \n"
   ]
  },
  {
   "cell_type": "code",
   "metadata": {
    "ExecuteTime": {
     "end_time": "2025-04-27T15:38:37.186577Z",
     "start_time": "2025-04-27T15:38:37.172562Z"
    }
   },
   "source": [
    "# add your code here：\n",
    "class TreeNode:\n",
    "    def __init__(self, val: int=0, left=None, right=None):\n",
    "        self.val = val\n",
    "        self.left = left\n",
    "        self.right = right\n",
    "\n",
    "def is_symmetric_recursive(root: TreeNode) -> bool:\n",
    "    if not root:\n",
    "        return True\n",
    "\n",
    "    def is_mirror(t1: TreeNode, t2: TreeNode) -> bool:\n",
    "        if not t1 and not t2:\n",
    "            return True\n",
    "        if not t1 or not t2 or t1.val != t2.val:\n",
    "            return False\n",
    "        # 外侧 & 内侧 同时镜像\n",
    "        return (is_mirror(t1.left, t2.right)\n",
    "                and is_mirror(t1.right, t2.left))\n",
    "\n",
    "    return is_mirror(root.left, root.right)\n",
    "root1 = TreeNode(1,\n",
    "             TreeNode(2, TreeNode(3), TreeNode(4)),\n",
    "             TreeNode(2, TreeNode(4), TreeNode(3)))\n",
    "print(is_symmetric_recursive(root1))  # True\n",
    "\n",
    "\n",
    "# 非对称树 [1,2,2,None,3,None,3]\n",
    "root2 = TreeNode(1,\n",
    "             TreeNode(2, None, TreeNode(3)),\n",
    "             TreeNode(2, None, TreeNode(3)))\n",
    "print(is_symmetric_recursive(root2))  # False\n",
    "\n",
    "# your algorithm time complexity is:(O(n)"
   ],
   "outputs": [
    {
     "name": "stdout",
     "output_type": "stream",
     "text": [
      "True\n",
      "False\n"
     ]
    }
   ],
   "execution_count": 7
  },
  {
   "cell_type": "markdown",
   "metadata": {},
   "source": [
    "## 问题 11  \n",
    "\n",
    "给你一个由 '1'（陆地）和 '0'（水）组成的的二维网格，请你计算网格中岛屿的数量。岛屿总是被水包围，并且每座岛屿只能由水平方向和/或竖直方向上相邻的陆地连接形成。\n",
    "\n",
    "此外，你可以假设该网格的四条边均被水包围。\n",
    "\n",
    "分析算法设计思路，计算时间复杂度，并基于python编程实现\n",
    "\n",
    "e.g.:\n",
    "---\n",
    "1.\n",
    "输入：grid = [\n",
    "\n",
    "    [\"1\",\"1\",\"1\",\"1\",\"0\"],\n",
    "\n",
    "    [\"1\",\"1\",\"0\",\"1\",\"0\"], \n",
    "\n",
    "    [\"1\",\"1\",\"0\",\"0\",\"0\"], \n",
    "\n",
    "    [\"0\",\"0\",\"0\",\"0\",\"0\"]  \n",
    "\n",
    "]\n",
    "\n",
    "输出：1\n",
    "\n",
    "2.\n",
    "输入：grid = [\n",
    "\n",
    "    [\"1\",\"1\",\"0\",\"0\",\"0\"],\n",
    "\n",
    "    [\"1\",\"1\",\"0\",\"0\",\"0\"],\n",
    "\n",
    "    [\"0\",\"0\",\"1\",\"0\",\"0\"],\n",
    "\n",
    "    [\"0\",\"0\",\"0\",\"1\",\"1\"]\n",
    "\n",
    "]\n",
    "\n",
    "输出：3"
   ]
  },
  {
   "cell_type": "markdown",
   "metadata": {},
   "source": [
    "idea:\n",
    "1. **问题抽象**  \n",
    "   - 给定一个 `m × n` 的字符网格 `grid`，元素为 `'1'`（陆地）或 `'0'`（水）。  \n",
    "   - 每个「岛屿」是一片通过上下左右相邻的 `'1'` 连接在一起的区域。  \n",
    "   - 统计网格中连通的 `'1'` 区域数目。\n",
    "\n",
    "2. **Flood Fill（深度优先遍历）**  \n",
    "   - 遍历网格的每个位置 `(i, j)`：  \n",
    "     - 若 `grid[i][j] == '1'`，说明发现一个新岛屿，答案加 1；  \n",
    "     - 调用 `dfs(i, j)` 将该岛屿上的所有 `'1'` 都染成 `'0'`（或访问标记），避免重复计数。  \n",
    "   - `dfs(i, j)`：  \n",
    "     1. 边界检查：若越界或 `grid[i][j] != '1'`，直接返回；  \n",
    "     2. 将 `grid[i][j] = '0'`；  \n",
    "     3. 递归访问上下左右四个方向。\n"
   ]
  },
  {
   "cell_type": "code",
   "metadata": {
    "ExecuteTime": {
     "end_time": "2025-04-27T15:42:26.750351Z",
     "start_time": "2025-04-27T15:42:26.743488Z"
    }
   },
   "source": [
    "# add your code here\n",
    "from typing import List\n",
    "\n",
    "def num_islands(grid: List[List[str]]) -> int:\n",
    " \"\"\"\n",
    " 计算网格中岛屿的数量。使用 DFS 对每个新发现的岛屿进行 flood fill。\n",
    " 时间复杂度 O(mn)，空间复杂度 O(mn)（递归栈）。\n",
    " \"\"\"\n",
    " if not grid or not grid[0]:\n",
    "     return 0\n",
    "\n",
    " m, n = len(grid), len(grid[0])\n",
    " count = 0\n",
    "\n",
    " def dfs(i: int, j: int):\n",
    "     # 边界或非陆地时返回\n",
    "     if i < 0 or i >= m or j < 0 or j >= n or grid[i][j] != '1':\n",
    "         return\n",
    "     # 将该格标记为已访问（染成水）\n",
    "     grid[i][j] = '0'\n",
    "     # 递归四个方向\n",
    "     dfs(i-1, j)\n",
    "     dfs(i+1, j)\n",
    "     dfs(i, j-1)\n",
    "     dfs(i, j+1)\n",
    "\n",
    " for i in range(m):\n",
    "     for j in range(n):\n",
    "         if grid[i][j] == '1':\n",
    "             count += 1\n",
    "             dfs(i, j)\n",
    "\n",
    " return count\n",
    "\n",
    "# ---------- 示例测试 ----------\n",
    "if __name__ == \"__main__\":\n",
    " grid1 = [\n",
    "     [\"1\",\"1\",\"1\",\"1\",\"0\"],\n",
    "     [\"1\",\"1\",\"0\",\"1\",\"0\"],\n",
    "     [\"1\",\"1\",\"0\",\"0\",\"0\"],\n",
    "     [\"0\",\"0\",\"0\",\"0\",\"0\"]\n",
    " ]\n",
    " print(num_islands(grid1))  # 输出 1\n",
    "\n",
    " grid2 = [\n",
    "     [\"1\",\"1\",\"0\",\"0\",\"0\"],\n",
    "     [\"1\",\"1\",\"0\",\"0\",\"0\"],\n",
    "     [\"0\",\"0\",\"1\",\"0\",\"0\"],\n",
    "     [\"0\",\"0\",\"0\",\"1\",\"1\"]\n",
    " ]\n",
    " print(num_islands(grid2))  # 输出 3\n",
    "# your algorithm time complexity is:O(mn)"
   ],
   "outputs": [
    {
     "name": "stdout",
     "output_type": "stream",
     "text": [
      "1\n",
      "3\n"
     ]
    }
   ],
   "execution_count": 8
  }
 ],
 "metadata": {
  "language_info": {
   "name": "python"
  },
  "kernelspec": {
   "name": "python3",
   "language": "python",
   "display_name": "Python 3 (ipykernel)"
  }
 },
 "nbformat": 4,
 "nbformat_minor": 2
}
